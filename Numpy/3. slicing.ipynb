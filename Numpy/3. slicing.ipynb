{
 "cells": [
  {
   "cell_type": "code",
   "execution_count": 1,
   "id": "88b4c4e6-8352-4bad-be9e-88d4170cf7d0",
   "metadata": {},
   "outputs": [],
   "source": [
    "import numpy as np"
   ]
  },
  {
   "cell_type": "code",
   "execution_count": 2,
   "id": "73c4bfce-58de-4021-9a42-42965fe6eefd",
   "metadata": {},
   "outputs": [],
   "source": [
    "arr = np.random.rand(5,5)"
   ]
  },
  {
   "cell_type": "code",
   "execution_count": 3,
   "id": "99fba567-b6ae-45b4-9429-8893aa9311b3",
   "metadata": {},
   "outputs": [
    {
     "data": {
      "text/plain": [
       "array([[0.99239614, 0.60997782, 0.23480178, 0.06669655, 0.33148925],\n",
       "       [0.44822473, 0.39022563, 0.4620959 , 0.66909815, 0.48818563],\n",
       "       [0.52274262, 0.52460193, 0.01046909, 0.25056774, 0.0719195 ],\n",
       "       [0.2278477 , 0.92799341, 0.7321762 , 0.21055829, 0.56747592],\n",
       "       [0.89603452, 0.81687078, 0.57562982, 0.6297785 , 0.08124942]])"
      ]
     },
     "execution_count": 3,
     "metadata": {},
     "output_type": "execute_result"
    }
   ],
   "source": [
    "arr"
   ]
  },
  {
   "cell_type": "code",
   "execution_count": 4,
   "id": "e1a1ca67-32eb-4437-a245-d96b15cbb008",
   "metadata": {},
   "outputs": [
    {
     "data": {
      "text/plain": [
       "dtype('float64')"
      ]
     },
     "execution_count": 4,
     "metadata": {},
     "output_type": "execute_result"
    }
   ],
   "source": [
    "arr.dtype"
   ]
  },
  {
   "cell_type": "code",
   "execution_count": 5,
   "id": "c78cf651-4dd1-449c-aa04-d711bca4fe56",
   "metadata": {},
   "outputs": [
    {
     "data": {
      "text/plain": [
       "(5, 5)"
      ]
     },
     "execution_count": 5,
     "metadata": {},
     "output_type": "execute_result"
    }
   ],
   "source": [
    "arr.shape"
   ]
  },
  {
   "cell_type": "code",
   "execution_count": 6,
   "id": "e135c49c-be2b-4a37-8a81-2d1ca06f1589",
   "metadata": {},
   "outputs": [
    {
     "data": {
      "text/plain": [
       "2"
      ]
     },
     "execution_count": 6,
     "metadata": {},
     "output_type": "execute_result"
    }
   ],
   "source": [
    "len(arr.shape)"
   ]
  },
  {
   "cell_type": "code",
   "execution_count": 7,
   "id": "743672ca-4197-4304-8bbf-1e31a454cbd8",
   "metadata": {},
   "outputs": [
    {
     "data": {
      "text/plain": [
       "array([[0.99239614, 0.60997782, 0.23480178, 0.06669655, 0.33148925],\n",
       "       [0.44822473, 0.39022563, 0.4620959 , 0.66909815, 0.48818563],\n",
       "       [0.52274262, 0.52460193, 0.01046909, 0.25056774, 0.0719195 ]])"
      ]
     },
     "execution_count": 7,
     "metadata": {},
     "output_type": "execute_result"
    }
   ],
   "source": [
    "arr[:3] #slicing"
   ]
  },
  {
   "cell_type": "code",
   "execution_count": 8,
   "id": "cfff3820-e92b-4fff-b28f-a085a1aed972",
   "metadata": {},
   "outputs": [
    {
     "data": {
      "text/plain": [
       "(3, 5)"
      ]
     },
     "execution_count": 8,
     "metadata": {},
     "output_type": "execute_result"
    }
   ],
   "source": [
    "arr[:3].shape"
   ]
  },
  {
   "cell_type": "code",
   "execution_count": 9,
   "id": "6149f7d8-0a8f-48dd-b9af-fecc1508e1d5",
   "metadata": {},
   "outputs": [
    {
     "data": {
      "text/plain": [
       "array([[0.99239614, 0.60997782, 0.23480178],\n",
       "       [0.44822473, 0.39022563, 0.4620959 ],\n",
       "       [0.52274262, 0.52460193, 0.01046909],\n",
       "       [0.2278477 , 0.92799341, 0.7321762 ],\n",
       "       [0.89603452, 0.81687078, 0.57562982]])"
      ]
     },
     "execution_count": 9,
     "metadata": {},
     "output_type": "execute_result"
    }
   ],
   "source": [
    "arr[:,:3]"
   ]
  },
  {
   "cell_type": "code",
   "execution_count": 10,
   "id": "2f3b6298-ad51-4298-933c-0b716761b35b",
   "metadata": {},
   "outputs": [
    {
     "data": {
      "text/plain": [
       "0.6297784973276515"
      ]
     },
     "execution_count": 10,
     "metadata": {},
     "output_type": "execute_result"
    }
   ],
   "source": [
    "arr[4,3]"
   ]
  },
  {
   "cell_type": "code",
   "execution_count": 11,
   "id": "432a6543-9973-4416-9a98-78981659ae80",
   "metadata": {},
   "outputs": [],
   "source": [
    "int_arr=np.random.randint(10,size=(5,6))"
   ]
  },
  {
   "cell_type": "code",
   "execution_count": 12,
   "id": "4340abb9-36fa-4c68-81db-787ab2f8136b",
   "metadata": {},
   "outputs": [
    {
     "data": {
      "text/plain": [
       "array([[2, 0, 8, 6, 1, 2],\n",
       "       [8, 2, 7, 3, 8, 0],\n",
       "       [9, 8, 4, 8, 3, 3],\n",
       "       [8, 3, 0, 5, 7, 3],\n",
       "       [7, 6, 5, 8, 8, 9]])"
      ]
     },
     "execution_count": 12,
     "metadata": {},
     "output_type": "execute_result"
    }
   ],
   "source": [
    "int_arr"
   ]
  },
  {
   "cell_type": "code",
   "execution_count": 13,
   "id": "5b7e5c57-43ec-419d-bdf6-d1c7014d8a53",
   "metadata": {},
   "outputs": [
    {
     "data": {
      "text/plain": [
       "array([[ True, False, False, False, False,  True],\n",
       "       [False,  True, False, False, False, False],\n",
       "       [False, False, False, False, False, False],\n",
       "       [False, False, False, False, False, False],\n",
       "       [False, False, False, False, False, False]])"
      ]
     },
     "execution_count": 13,
     "metadata": {},
     "output_type": "execute_result"
    }
   ],
   "source": [
    "int_arr==2"
   ]
  },
  {
   "cell_type": "code",
   "execution_count": 16,
   "id": "68b5329c-3573-4a94-8248-4f5c3853d771",
   "metadata": {},
   "outputs": [
    {
     "data": {
      "text/plain": [
       "1"
      ]
     },
     "execution_count": 16,
     "metadata": {},
     "output_type": "execute_result"
    }
   ],
   "source": [
    "int_arr[0,4]"
   ]
  },
  {
   "cell_type": "code",
   "execution_count": 17,
   "id": "18cc63ac-1baf-4112-ad59-b22acb49b013",
   "metadata": {},
   "outputs": [],
   "source": [
    "int_arr0=int_arr[0]"
   ]
  },
  {
   "cell_type": "code",
   "execution_count": 18,
   "id": "c41c7d06-c98f-4427-acb8-00145695aafa",
   "metadata": {},
   "outputs": [
    {
     "data": {
      "text/plain": [
       "array([2, 0, 8, 6, 1, 2])"
      ]
     },
     "execution_count": 18,
     "metadata": {},
     "output_type": "execute_result"
    }
   ],
   "source": [
    "int_arr0"
   ]
  },
  {
   "cell_type": "code",
   "execution_count": 31,
   "id": "ae24401c-8953-4873-b401-5bf057ce5cea",
   "metadata": {},
   "outputs": [],
   "source": [
    "int_arr0_is28 = (int_arr0 == 2) | (int_arr0 == 8)"
   ]
  },
  {
   "cell_type": "code",
   "execution_count": 32,
   "id": "6e1442db-2224-4913-85bf-e5477ff96575",
   "metadata": {},
   "outputs": [
    {
     "data": {
      "text/plain": [
       "array([ True, False,  True, False, False,  True])"
      ]
     },
     "execution_count": 32,
     "metadata": {},
     "output_type": "execute_result"
    }
   ],
   "source": [
    "int_arr0_is28"
   ]
  },
  {
   "cell_type": "code",
   "execution_count": 33,
   "id": "233a5a30-4b78-44e5-b436-5ab3842e7f36",
   "metadata": {},
   "outputs": [
    {
     "data": {
      "text/plain": [
       "array([2, 8, 2])"
      ]
     },
     "execution_count": 33,
     "metadata": {},
     "output_type": "execute_result"
    }
   ],
   "source": [
    "int_arr0[int_arr0_is28]"
   ]
  },
  {
   "cell_type": "code",
   "execution_count": null,
   "id": "988d3bf0-6890-4b00-88b0-db4d6b861772",
   "metadata": {},
   "outputs": [],
   "source": []
  }
 ],
 "metadata": {
  "kernelspec": {
   "display_name": "Python 3 (ipykernel)",
   "language": "python",
   "name": "python3"
  },
  "language_info": {
   "codemirror_mode": {
    "name": "ipython",
    "version": 3
   },
   "file_extension": ".py",
   "mimetype": "text/x-python",
   "name": "python",
   "nbconvert_exporter": "python",
   "pygments_lexer": "ipython3",
   "version": "3.11.4"
  }
 },
 "nbformat": 4,
 "nbformat_minor": 5
}
