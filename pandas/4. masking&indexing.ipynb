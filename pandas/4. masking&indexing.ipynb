{
 "cells": [
  {
   "cell_type": "code",
   "execution_count": 1,
   "id": "59b1022f-9851-431a-8017-351799ceb819",
   "metadata": {},
   "outputs": [],
   "source": [
    "import pandas as pd"
   ]
  },
  {
   "cell_type": "code",
   "execution_count": 3,
   "id": "c4760082-37b5-4b5c-b256-c6aabb70fd3e",
   "metadata": {},
   "outputs": [],
   "source": [
    "countries=pd.read_csv(\"covid/countries-aggregated.csv\")"
   ]
  },
  {
   "cell_type": "code",
   "execution_count": 4,
   "id": "95cb2cd7-920c-4e19-9743-4b3585597ed6",
   "metadata": {},
   "outputs": [
    {
     "name": "stdout",
     "output_type": "stream",
     "text": [
      "<class 'pandas.core.frame.DataFrame'>\n",
      "RangeIndex: 161568 entries, 0 to 161567\n",
      "Data columns (total 5 columns):\n",
      " #   Column     Non-Null Count   Dtype \n",
      "---  ------     --------------   ----- \n",
      " 0   Date       161568 non-null  object\n",
      " 1   Country    161568 non-null  object\n",
      " 2   Confirmed  161568 non-null  int64 \n",
      " 3   Recovered  161568 non-null  int64 \n",
      " 4   Deaths     161568 non-null  int64 \n",
      "dtypes: int64(3), object(2)\n",
      "memory usage: 6.2+ MB\n"
     ]
    }
   ],
   "source": [
    "countries.info()"
   ]
  },
  {
   "cell_type": "code",
   "execution_count": 5,
   "id": "003e83af-d3bf-494d-8919-1bfa97c455e9",
   "metadata": {},
   "outputs": [
    {
     "data": {
      "text/plain": [
       "0         Afghanistan\n",
       "1         Afghanistan\n",
       "2         Afghanistan\n",
       "3         Afghanistan\n",
       "4         Afghanistan\n",
       "             ...     \n",
       "161563       Zimbabwe\n",
       "161564       Zimbabwe\n",
       "161565       Zimbabwe\n",
       "161566       Zimbabwe\n",
       "161567       Zimbabwe\n",
       "Name: Country, Length: 161568, dtype: object"
      ]
     },
     "execution_count": 5,
     "metadata": {},
     "output_type": "execute_result"
    }
   ],
   "source": [
    "countries[\"Country\"]"
   ]
  },
  {
   "cell_type": "code",
   "execution_count": 6,
   "id": "fea38a21-aba7-40dd-849b-a8bd4bc10191",
   "metadata": {},
   "outputs": [
    {
     "data": {
      "text/plain": [
       "0         False\n",
       "1         False\n",
       "2         False\n",
       "3         False\n",
       "4         False\n",
       "          ...  \n",
       "161563    False\n",
       "161564    False\n",
       "161565    False\n",
       "161566    False\n",
       "161567    False\n",
       "Name: Country, Length: 161568, dtype: bool"
      ]
     },
     "execution_count": 6,
     "metadata": {},
     "output_type": "execute_result"
    }
   ],
   "source": [
    "countries[\"Country\"]==\"India\""
   ]
  },
  {
   "cell_type": "code",
   "execution_count": 7,
   "id": "2001523f-6906-404c-8fa0-77d4ff3c4404",
   "metadata": {},
   "outputs": [
    {
     "data": {
      "text/plain": [
       "0         False\n",
       "1         False\n",
       "2         False\n",
       "3         False\n",
       "4         False\n",
       "          ...  \n",
       "161563    False\n",
       "161564    False\n",
       "161565    False\n",
       "161566    False\n",
       "161567    False\n",
       "Name: Date, Length: 161568, dtype: bool"
      ]
     },
     "execution_count": 7,
     "metadata": {},
     "output_type": "execute_result"
    }
   ],
   "source": [
    "countries[\"Date\"]==\"2021-06-22\""
   ]
  },
  {
   "cell_type": "code",
   "execution_count": 10,
   "id": "bc7c6b68-38bf-40c9-a0aa-2da70e3a9843",
   "metadata": {},
   "outputs": [],
   "source": [
    "mask = (countries[\"Country\"]==\"India\") & (countries[\"Date\"]==\"2021-06-22\")"
   ]
  },
  {
   "cell_type": "code",
   "execution_count": 11,
   "id": "5363552c-36c1-44f5-badd-d18afa133348",
   "metadata": {},
   "outputs": [
    {
     "data": {
      "text/plain": [
       "0         False\n",
       "1         False\n",
       "2         False\n",
       "3         False\n",
       "4         False\n",
       "          ...  \n",
       "161563    False\n",
       "161564    False\n",
       "161565    False\n",
       "161566    False\n",
       "161567    False\n",
       "Length: 161568, dtype: bool"
      ]
     },
     "execution_count": 11,
     "metadata": {},
     "output_type": "execute_result"
    }
   ],
   "source": [
    "mask"
   ]
  },
  {
   "cell_type": "code",
   "execution_count": 12,
   "id": "e9e0c993-ccf5-4531-9151-bb6f73b938ac",
   "metadata": {},
   "outputs": [
    {
     "data": {
      "text/html": [
       "<div>\n",
       "<style scoped>\n",
       "    .dataframe tbody tr th:only-of-type {\n",
       "        vertical-align: middle;\n",
       "    }\n",
       "\n",
       "    .dataframe tbody tr th {\n",
       "        vertical-align: top;\n",
       "    }\n",
       "\n",
       "    .dataframe thead th {\n",
       "        text-align: right;\n",
       "    }\n",
       "</style>\n",
       "<table border=\"1\" class=\"dataframe\">\n",
       "  <thead>\n",
       "    <tr style=\"text-align: right;\">\n",
       "      <th></th>\n",
       "      <th>Date</th>\n",
       "      <th>Country</th>\n",
       "      <th>Confirmed</th>\n",
       "      <th>Recovered</th>\n",
       "      <th>Deaths</th>\n",
       "    </tr>\n",
       "  </thead>\n",
       "  <tbody>\n",
       "    <tr>\n",
       "      <th>65797</th>\n",
       "      <td>2021-06-22</td>\n",
       "      <td>India</td>\n",
       "      <td>30028709</td>\n",
       "      <td>28994855</td>\n",
       "      <td>390660</td>\n",
       "    </tr>\n",
       "  </tbody>\n",
       "</table>\n",
       "</div>"
      ],
      "text/plain": [
       "             Date Country  Confirmed  Recovered  Deaths\n",
       "65797  2021-06-22   India   30028709   28994855  390660"
      ]
     },
     "execution_count": 12,
     "metadata": {},
     "output_type": "execute_result"
    }
   ],
   "source": [
    "countries[mask]"
   ]
  },
  {
   "cell_type": "code",
   "execution_count": 14,
   "id": "f6370915-5d7a-471b-b347-1b03c3245155",
   "metadata": {},
   "outputs": [
    {
     "data": {
      "text/html": [
       "<div>\n",
       "<style scoped>\n",
       "    .dataframe tbody tr th:only-of-type {\n",
       "        vertical-align: middle;\n",
       "    }\n",
       "\n",
       "    .dataframe tbody tr th {\n",
       "        vertical-align: top;\n",
       "    }\n",
       "\n",
       "    .dataframe thead th {\n",
       "        text-align: right;\n",
       "    }\n",
       "</style>\n",
       "<table border=\"1\" class=\"dataframe\">\n",
       "  <thead>\n",
       "    <tr style=\"text-align: right;\">\n",
       "      <th></th>\n",
       "      <th>Date</th>\n",
       "      <th>Country</th>\n",
       "      <th>Confirmed</th>\n",
       "      <th>Recovered</th>\n",
       "      <th>Deaths</th>\n",
       "    </tr>\n",
       "  </thead>\n",
       "  <tbody>\n",
       "    <tr>\n",
       "      <th>65280</th>\n",
       "      <td>2020-01-22</td>\n",
       "      <td>India</td>\n",
       "      <td>0</td>\n",
       "      <td>0</td>\n",
       "      <td>0</td>\n",
       "    </tr>\n",
       "    <tr>\n",
       "      <th>65281</th>\n",
       "      <td>2020-01-23</td>\n",
       "      <td>India</td>\n",
       "      <td>0</td>\n",
       "      <td>0</td>\n",
       "      <td>0</td>\n",
       "    </tr>\n",
       "    <tr>\n",
       "      <th>65282</th>\n",
       "      <td>2020-01-24</td>\n",
       "      <td>India</td>\n",
       "      <td>0</td>\n",
       "      <td>0</td>\n",
       "      <td>0</td>\n",
       "    </tr>\n",
       "    <tr>\n",
       "      <th>65283</th>\n",
       "      <td>2020-01-25</td>\n",
       "      <td>India</td>\n",
       "      <td>0</td>\n",
       "      <td>0</td>\n",
       "      <td>0</td>\n",
       "    </tr>\n",
       "    <tr>\n",
       "      <th>65284</th>\n",
       "      <td>2020-01-26</td>\n",
       "      <td>India</td>\n",
       "      <td>0</td>\n",
       "      <td>0</td>\n",
       "      <td>0</td>\n",
       "    </tr>\n",
       "    <tr>\n",
       "      <th>...</th>\n",
       "      <td>...</td>\n",
       "      <td>...</td>\n",
       "      <td>...</td>\n",
       "      <td>...</td>\n",
       "      <td>...</td>\n",
       "    </tr>\n",
       "    <tr>\n",
       "      <th>66091</th>\n",
       "      <td>2022-04-12</td>\n",
       "      <td>India</td>\n",
       "      <td>43038016</td>\n",
       "      <td>0</td>\n",
       "      <td>521736</td>\n",
       "    </tr>\n",
       "    <tr>\n",
       "      <th>66092</th>\n",
       "      <td>2022-04-13</td>\n",
       "      <td>India</td>\n",
       "      <td>43039023</td>\n",
       "      <td>0</td>\n",
       "      <td>521737</td>\n",
       "    </tr>\n",
       "    <tr>\n",
       "      <th>66093</th>\n",
       "      <td>2022-04-14</td>\n",
       "      <td>India</td>\n",
       "      <td>43039972</td>\n",
       "      <td>0</td>\n",
       "      <td>521743</td>\n",
       "    </tr>\n",
       "    <tr>\n",
       "      <th>66094</th>\n",
       "      <td>2022-04-15</td>\n",
       "      <td>India</td>\n",
       "      <td>43040947</td>\n",
       "      <td>0</td>\n",
       "      <td>521747</td>\n",
       "    </tr>\n",
       "    <tr>\n",
       "      <th>66095</th>\n",
       "      <td>2022-04-16</td>\n",
       "      <td>India</td>\n",
       "      <td>43042097</td>\n",
       "      <td>0</td>\n",
       "      <td>521751</td>\n",
       "    </tr>\n",
       "  </tbody>\n",
       "</table>\n",
       "<p>816 rows × 5 columns</p>\n",
       "</div>"
      ],
      "text/plain": [
       "             Date Country  Confirmed  Recovered  Deaths\n",
       "65280  2020-01-22   India          0          0       0\n",
       "65281  2020-01-23   India          0          0       0\n",
       "65282  2020-01-24   India          0          0       0\n",
       "65283  2020-01-25   India          0          0       0\n",
       "65284  2020-01-26   India          0          0       0\n",
       "...           ...     ...        ...        ...     ...\n",
       "66091  2022-04-12   India   43038016          0  521736\n",
       "66092  2022-04-13   India   43039023          0  521737\n",
       "66093  2022-04-14   India   43039972          0  521743\n",
       "66094  2022-04-15   India   43040947          0  521747\n",
       "66095  2022-04-16   India   43042097          0  521751\n",
       "\n",
       "[816 rows x 5 columns]"
      ]
     },
     "execution_count": 14,
     "metadata": {},
     "output_type": "execute_result"
    }
   ],
   "source": [
    "countries.query(\"Country == 'India'\")"
   ]
  },
  {
   "cell_type": "code",
   "execution_count": 16,
   "id": "62a2f767-ca3c-4c73-99c9-8b87260c61c9",
   "metadata": {},
   "outputs": [
    {
     "data": {
      "text/html": [
       "<div>\n",
       "<style scoped>\n",
       "    .dataframe tbody tr th:only-of-type {\n",
       "        vertical-align: middle;\n",
       "    }\n",
       "\n",
       "    .dataframe tbody tr th {\n",
       "        vertical-align: top;\n",
       "    }\n",
       "\n",
       "    .dataframe thead th {\n",
       "        text-align: right;\n",
       "    }\n",
       "</style>\n",
       "<table border=\"1\" class=\"dataframe\">\n",
       "  <thead>\n",
       "    <tr style=\"text-align: right;\">\n",
       "      <th></th>\n",
       "      <th>Date</th>\n",
       "      <th>Country</th>\n",
       "      <th>Confirmed</th>\n",
       "      <th>Recovered</th>\n",
       "      <th>Deaths</th>\n",
       "    </tr>\n",
       "  </thead>\n",
       "  <tbody>\n",
       "    <tr>\n",
       "      <th>66094</th>\n",
       "      <td>2022-04-15</td>\n",
       "      <td>India</td>\n",
       "      <td>43040947</td>\n",
       "      <td>0</td>\n",
       "      <td>521747</td>\n",
       "    </tr>\n",
       "  </tbody>\n",
       "</table>\n",
       "</div>"
      ],
      "text/plain": [
       "             Date Country  Confirmed  Recovered  Deaths\n",
       "66094  2022-04-15   India   43040947          0  521747"
      ]
     },
     "execution_count": 16,
     "metadata": {},
     "output_type": "execute_result"
    }
   ],
   "source": [
    "countries.query(\"(Country == 'India') & (Date == '2022-04-15')\")"
   ]
  },
  {
   "cell_type": "code",
   "execution_count": 17,
   "id": "3de2f954-4780-4b92-a93e-591f2a3b3db9",
   "metadata": {},
   "outputs": [
    {
     "data": {
      "text/plain": [
       "Date         2022-04-14\n",
       "Country           India\n",
       "Confirmed      43039972\n",
       "Recovered             0\n",
       "Deaths           521743\n",
       "Name: 66093, dtype: object"
      ]
     },
     "execution_count": 17,
     "metadata": {},
     "output_type": "execute_result"
    }
   ],
   "source": [
    "countries.loc[66093]"
   ]
  },
  {
   "cell_type": "code",
   "execution_count": 18,
   "id": "0c587758-19e1-4a84-bd47-962e1576e7d3",
   "metadata": {},
   "outputs": [
    {
     "data": {
      "text/plain": [
       "pandas.core.series.Series"
      ]
     },
     "execution_count": 18,
     "metadata": {},
     "output_type": "execute_result"
    }
   ],
   "source": [
    "type(countries.loc[66093])"
   ]
  },
  {
   "cell_type": "code",
   "execution_count": 24,
   "id": "ccae6a43-b8d8-49c4-bf2f-aa2e295f5acb",
   "metadata": {},
   "outputs": [],
   "source": [
    "new_country = countries.set_index(\"Country\")"
   ]
  },
  {
   "cell_type": "code",
   "execution_count": 26,
   "id": "679243b0-ed59-4b76-98fd-6a4a0fea32e6",
   "metadata": {},
   "outputs": [
    {
     "data": {
      "text/html": [
       "<div>\n",
       "<style scoped>\n",
       "    .dataframe tbody tr th:only-of-type {\n",
       "        vertical-align: middle;\n",
       "    }\n",
       "\n",
       "    .dataframe tbody tr th {\n",
       "        vertical-align: top;\n",
       "    }\n",
       "\n",
       "    .dataframe thead th {\n",
       "        text-align: right;\n",
       "    }\n",
       "</style>\n",
       "<table border=\"1\" class=\"dataframe\">\n",
       "  <thead>\n",
       "    <tr style=\"text-align: right;\">\n",
       "      <th></th>\n",
       "      <th>Date</th>\n",
       "      <th>Confirmed</th>\n",
       "      <th>Recovered</th>\n",
       "      <th>Deaths</th>\n",
       "    </tr>\n",
       "    <tr>\n",
       "      <th>Country</th>\n",
       "      <th></th>\n",
       "      <th></th>\n",
       "      <th></th>\n",
       "      <th></th>\n",
       "    </tr>\n",
       "  </thead>\n",
       "  <tbody>\n",
       "    <tr>\n",
       "      <th>Afghanistan</th>\n",
       "      <td>2020-01-22</td>\n",
       "      <td>0</td>\n",
       "      <td>0</td>\n",
       "      <td>0</td>\n",
       "    </tr>\n",
       "    <tr>\n",
       "      <th>Afghanistan</th>\n",
       "      <td>2020-01-23</td>\n",
       "      <td>0</td>\n",
       "      <td>0</td>\n",
       "      <td>0</td>\n",
       "    </tr>\n",
       "    <tr>\n",
       "      <th>Afghanistan</th>\n",
       "      <td>2020-01-24</td>\n",
       "      <td>0</td>\n",
       "      <td>0</td>\n",
       "      <td>0</td>\n",
       "    </tr>\n",
       "    <tr>\n",
       "      <th>Afghanistan</th>\n",
       "      <td>2020-01-25</td>\n",
       "      <td>0</td>\n",
       "      <td>0</td>\n",
       "      <td>0</td>\n",
       "    </tr>\n",
       "    <tr>\n",
       "      <th>Afghanistan</th>\n",
       "      <td>2020-01-26</td>\n",
       "      <td>0</td>\n",
       "      <td>0</td>\n",
       "      <td>0</td>\n",
       "    </tr>\n",
       "    <tr>\n",
       "      <th>...</th>\n",
       "      <td>...</td>\n",
       "      <td>...</td>\n",
       "      <td>...</td>\n",
       "      <td>...</td>\n",
       "    </tr>\n",
       "    <tr>\n",
       "      <th>Zimbabwe</th>\n",
       "      <td>2022-04-12</td>\n",
       "      <td>247094</td>\n",
       "      <td>0</td>\n",
       "      <td>5460</td>\n",
       "    </tr>\n",
       "    <tr>\n",
       "      <th>Zimbabwe</th>\n",
       "      <td>2022-04-13</td>\n",
       "      <td>247160</td>\n",
       "      <td>0</td>\n",
       "      <td>5460</td>\n",
       "    </tr>\n",
       "    <tr>\n",
       "      <th>Zimbabwe</th>\n",
       "      <td>2022-04-14</td>\n",
       "      <td>247208</td>\n",
       "      <td>0</td>\n",
       "      <td>5462</td>\n",
       "    </tr>\n",
       "    <tr>\n",
       "      <th>Zimbabwe</th>\n",
       "      <td>2022-04-15</td>\n",
       "      <td>247237</td>\n",
       "      <td>0</td>\n",
       "      <td>5462</td>\n",
       "    </tr>\n",
       "    <tr>\n",
       "      <th>Zimbabwe</th>\n",
       "      <td>2022-04-16</td>\n",
       "      <td>247237</td>\n",
       "      <td>0</td>\n",
       "      <td>5462</td>\n",
       "    </tr>\n",
       "  </tbody>\n",
       "</table>\n",
       "<p>161568 rows × 4 columns</p>\n",
       "</div>"
      ],
      "text/plain": [
       "                   Date  Confirmed  Recovered  Deaths\n",
       "Country                                              \n",
       "Afghanistan  2020-01-22          0          0       0\n",
       "Afghanistan  2020-01-23          0          0       0\n",
       "Afghanistan  2020-01-24          0          0       0\n",
       "Afghanistan  2020-01-25          0          0       0\n",
       "Afghanistan  2020-01-26          0          0       0\n",
       "...                 ...        ...        ...     ...\n",
       "Zimbabwe     2022-04-12     247094          0    5460\n",
       "Zimbabwe     2022-04-13     247160          0    5460\n",
       "Zimbabwe     2022-04-14     247208          0    5462\n",
       "Zimbabwe     2022-04-15     247237          0    5462\n",
       "Zimbabwe     2022-04-16     247237          0    5462\n",
       "\n",
       "[161568 rows x 4 columns]"
      ]
     },
     "execution_count": 26,
     "metadata": {},
     "output_type": "execute_result"
    }
   ],
   "source": [
    "new_country"
   ]
  },
  {
   "cell_type": "code",
   "execution_count": 29,
   "id": "530f8e03-bdeb-466f-b07d-e628e6403a86",
   "metadata": {},
   "outputs": [],
   "source": [
    "# new_country.loc[5] now not applicable\n",
    "# new_country[\"Country\"] also not applicable"
   ]
  },
  {
   "cell_type": "code",
   "execution_count": 28,
   "id": "2d1839f8-817a-45b0-bd00-e7fcfea06391",
   "metadata": {},
   "outputs": [
    {
     "data": {
      "text/html": [
       "<div>\n",
       "<style scoped>\n",
       "    .dataframe tbody tr th:only-of-type {\n",
       "        vertical-align: middle;\n",
       "    }\n",
       "\n",
       "    .dataframe tbody tr th {\n",
       "        vertical-align: top;\n",
       "    }\n",
       "\n",
       "    .dataframe thead th {\n",
       "        text-align: right;\n",
       "    }\n",
       "</style>\n",
       "<table border=\"1\" class=\"dataframe\">\n",
       "  <thead>\n",
       "    <tr style=\"text-align: right;\">\n",
       "      <th></th>\n",
       "      <th>Date</th>\n",
       "      <th>Confirmed</th>\n",
       "      <th>Recovered</th>\n",
       "      <th>Deaths</th>\n",
       "    </tr>\n",
       "    <tr>\n",
       "      <th>Country</th>\n",
       "      <th></th>\n",
       "      <th></th>\n",
       "      <th></th>\n",
       "      <th></th>\n",
       "    </tr>\n",
       "  </thead>\n",
       "  <tbody>\n",
       "    <tr>\n",
       "      <th>India</th>\n",
       "      <td>2020-01-22</td>\n",
       "      <td>0</td>\n",
       "      <td>0</td>\n",
       "      <td>0</td>\n",
       "    </tr>\n",
       "    <tr>\n",
       "      <th>India</th>\n",
       "      <td>2020-01-23</td>\n",
       "      <td>0</td>\n",
       "      <td>0</td>\n",
       "      <td>0</td>\n",
       "    </tr>\n",
       "    <tr>\n",
       "      <th>India</th>\n",
       "      <td>2020-01-24</td>\n",
       "      <td>0</td>\n",
       "      <td>0</td>\n",
       "      <td>0</td>\n",
       "    </tr>\n",
       "    <tr>\n",
       "      <th>India</th>\n",
       "      <td>2020-01-25</td>\n",
       "      <td>0</td>\n",
       "      <td>0</td>\n",
       "      <td>0</td>\n",
       "    </tr>\n",
       "    <tr>\n",
       "      <th>India</th>\n",
       "      <td>2020-01-26</td>\n",
       "      <td>0</td>\n",
       "      <td>0</td>\n",
       "      <td>0</td>\n",
       "    </tr>\n",
       "    <tr>\n",
       "      <th>...</th>\n",
       "      <td>...</td>\n",
       "      <td>...</td>\n",
       "      <td>...</td>\n",
       "      <td>...</td>\n",
       "    </tr>\n",
       "    <tr>\n",
       "      <th>India</th>\n",
       "      <td>2022-04-12</td>\n",
       "      <td>43038016</td>\n",
       "      <td>0</td>\n",
       "      <td>521736</td>\n",
       "    </tr>\n",
       "    <tr>\n",
       "      <th>India</th>\n",
       "      <td>2022-04-13</td>\n",
       "      <td>43039023</td>\n",
       "      <td>0</td>\n",
       "      <td>521737</td>\n",
       "    </tr>\n",
       "    <tr>\n",
       "      <th>India</th>\n",
       "      <td>2022-04-14</td>\n",
       "      <td>43039972</td>\n",
       "      <td>0</td>\n",
       "      <td>521743</td>\n",
       "    </tr>\n",
       "    <tr>\n",
       "      <th>India</th>\n",
       "      <td>2022-04-15</td>\n",
       "      <td>43040947</td>\n",
       "      <td>0</td>\n",
       "      <td>521747</td>\n",
       "    </tr>\n",
       "    <tr>\n",
       "      <th>India</th>\n",
       "      <td>2022-04-16</td>\n",
       "      <td>43042097</td>\n",
       "      <td>0</td>\n",
       "      <td>521751</td>\n",
       "    </tr>\n",
       "  </tbody>\n",
       "</table>\n",
       "<p>816 rows × 4 columns</p>\n",
       "</div>"
      ],
      "text/plain": [
       "               Date  Confirmed  Recovered  Deaths\n",
       "Country                                          \n",
       "India    2020-01-22          0          0       0\n",
       "India    2020-01-23          0          0       0\n",
       "India    2020-01-24          0          0       0\n",
       "India    2020-01-25          0          0       0\n",
       "India    2020-01-26          0          0       0\n",
       "...             ...        ...        ...     ...\n",
       "India    2022-04-12   43038016          0  521736\n",
       "India    2022-04-13   43039023          0  521737\n",
       "India    2022-04-14   43039972          0  521743\n",
       "India    2022-04-15   43040947          0  521747\n",
       "India    2022-04-16   43042097          0  521751\n",
       "\n",
       "[816 rows x 4 columns]"
      ]
     },
     "execution_count": 28,
     "metadata": {},
     "output_type": "execute_result"
    }
   ],
   "source": [
    "new_country.loc[\"India\"]"
   ]
  },
  {
   "cell_type": "code",
   "execution_count": 30,
   "id": "9fd8e902-571d-4c78-b73e-b2c6143bcbf2",
   "metadata": {},
   "outputs": [
    {
     "data": {
      "text/html": [
       "<div>\n",
       "<style scoped>\n",
       "    .dataframe tbody tr th:only-of-type {\n",
       "        vertical-align: middle;\n",
       "    }\n",
       "\n",
       "    .dataframe tbody tr th {\n",
       "        vertical-align: top;\n",
       "    }\n",
       "\n",
       "    .dataframe thead th {\n",
       "        text-align: right;\n",
       "    }\n",
       "</style>\n",
       "<table border=\"1\" class=\"dataframe\">\n",
       "  <thead>\n",
       "    <tr style=\"text-align: right;\">\n",
       "      <th></th>\n",
       "      <th>Country</th>\n",
       "      <th>Date</th>\n",
       "      <th>Confirmed</th>\n",
       "      <th>Recovered</th>\n",
       "      <th>Deaths</th>\n",
       "    </tr>\n",
       "  </thead>\n",
       "  <tbody>\n",
       "    <tr>\n",
       "      <th>0</th>\n",
       "      <td>Afghanistan</td>\n",
       "      <td>2020-01-22</td>\n",
       "      <td>0</td>\n",
       "      <td>0</td>\n",
       "      <td>0</td>\n",
       "    </tr>\n",
       "    <tr>\n",
       "      <th>1</th>\n",
       "      <td>Afghanistan</td>\n",
       "      <td>2020-01-23</td>\n",
       "      <td>0</td>\n",
       "      <td>0</td>\n",
       "      <td>0</td>\n",
       "    </tr>\n",
       "    <tr>\n",
       "      <th>2</th>\n",
       "      <td>Afghanistan</td>\n",
       "      <td>2020-01-24</td>\n",
       "      <td>0</td>\n",
       "      <td>0</td>\n",
       "      <td>0</td>\n",
       "    </tr>\n",
       "    <tr>\n",
       "      <th>3</th>\n",
       "      <td>Afghanistan</td>\n",
       "      <td>2020-01-25</td>\n",
       "      <td>0</td>\n",
       "      <td>0</td>\n",
       "      <td>0</td>\n",
       "    </tr>\n",
       "    <tr>\n",
       "      <th>4</th>\n",
       "      <td>Afghanistan</td>\n",
       "      <td>2020-01-26</td>\n",
       "      <td>0</td>\n",
       "      <td>0</td>\n",
       "      <td>0</td>\n",
       "    </tr>\n",
       "    <tr>\n",
       "      <th>...</th>\n",
       "      <td>...</td>\n",
       "      <td>...</td>\n",
       "      <td>...</td>\n",
       "      <td>...</td>\n",
       "      <td>...</td>\n",
       "    </tr>\n",
       "    <tr>\n",
       "      <th>161563</th>\n",
       "      <td>Zimbabwe</td>\n",
       "      <td>2022-04-12</td>\n",
       "      <td>247094</td>\n",
       "      <td>0</td>\n",
       "      <td>5460</td>\n",
       "    </tr>\n",
       "    <tr>\n",
       "      <th>161564</th>\n",
       "      <td>Zimbabwe</td>\n",
       "      <td>2022-04-13</td>\n",
       "      <td>247160</td>\n",
       "      <td>0</td>\n",
       "      <td>5460</td>\n",
       "    </tr>\n",
       "    <tr>\n",
       "      <th>161565</th>\n",
       "      <td>Zimbabwe</td>\n",
       "      <td>2022-04-14</td>\n",
       "      <td>247208</td>\n",
       "      <td>0</td>\n",
       "      <td>5462</td>\n",
       "    </tr>\n",
       "    <tr>\n",
       "      <th>161566</th>\n",
       "      <td>Zimbabwe</td>\n",
       "      <td>2022-04-15</td>\n",
       "      <td>247237</td>\n",
       "      <td>0</td>\n",
       "      <td>5462</td>\n",
       "    </tr>\n",
       "    <tr>\n",
       "      <th>161567</th>\n",
       "      <td>Zimbabwe</td>\n",
       "      <td>2022-04-16</td>\n",
       "      <td>247237</td>\n",
       "      <td>0</td>\n",
       "      <td>5462</td>\n",
       "    </tr>\n",
       "  </tbody>\n",
       "</table>\n",
       "<p>161568 rows × 5 columns</p>\n",
       "</div>"
      ],
      "text/plain": [
       "            Country        Date  Confirmed  Recovered  Deaths\n",
       "0       Afghanistan  2020-01-22          0          0       0\n",
       "1       Afghanistan  2020-01-23          0          0       0\n",
       "2       Afghanistan  2020-01-24          0          0       0\n",
       "3       Afghanistan  2020-01-25          0          0       0\n",
       "4       Afghanistan  2020-01-26          0          0       0\n",
       "...             ...         ...        ...        ...     ...\n",
       "161563     Zimbabwe  2022-04-12     247094          0    5460\n",
       "161564     Zimbabwe  2022-04-13     247160          0    5460\n",
       "161565     Zimbabwe  2022-04-14     247208          0    5462\n",
       "161566     Zimbabwe  2022-04-15     247237          0    5462\n",
       "161567     Zimbabwe  2022-04-16     247237          0    5462\n",
       "\n",
       "[161568 rows x 5 columns]"
      ]
     },
     "execution_count": 30,
     "metadata": {},
     "output_type": "execute_result"
    }
   ],
   "source": [
    "new_country.reset_index()"
   ]
  },
  {
   "cell_type": "code",
   "execution_count": 32,
   "id": "2a96ab29-b6df-4b61-9d5c-41abbaf2dcd5",
   "metadata": {},
   "outputs": [
    {
     "data": {
      "text/plain": [
       "Date         2022-04-14\n",
       "Confirmed      43039972\n",
       "Recovered             0\n",
       "Deaths           521743\n",
       "Name: India, dtype: object"
      ]
     },
     "execution_count": 32,
     "metadata": {},
     "output_type": "execute_result"
    }
   ],
   "source": [
    "new_country.iloc[66093]"
   ]
  },
  {
   "cell_type": "code",
   "execution_count": 33,
   "id": "d7282ea2-56d2-4954-a84e-25f6271891b0",
   "metadata": {},
   "outputs": [],
   "source": [
    "country_india = countries.query(\"(Country == 'India')\")"
   ]
  },
  {
   "cell_type": "code",
   "execution_count": 34,
   "id": "0b167f89-8b08-48c2-b5b0-8532f027ff15",
   "metadata": {},
   "outputs": [
    {
     "data": {
      "text/html": [
       "<div>\n",
       "<style scoped>\n",
       "    .dataframe tbody tr th:only-of-type {\n",
       "        vertical-align: middle;\n",
       "    }\n",
       "\n",
       "    .dataframe tbody tr th {\n",
       "        vertical-align: top;\n",
       "    }\n",
       "\n",
       "    .dataframe thead th {\n",
       "        text-align: right;\n",
       "    }\n",
       "</style>\n",
       "<table border=\"1\" class=\"dataframe\">\n",
       "  <thead>\n",
       "    <tr style=\"text-align: right;\">\n",
       "      <th></th>\n",
       "      <th>Date</th>\n",
       "      <th>Country</th>\n",
       "      <th>Confirmed</th>\n",
       "      <th>Recovered</th>\n",
       "      <th>Deaths</th>\n",
       "    </tr>\n",
       "  </thead>\n",
       "  <tbody>\n",
       "    <tr>\n",
       "      <th>65280</th>\n",
       "      <td>2020-01-22</td>\n",
       "      <td>India</td>\n",
       "      <td>0</td>\n",
       "      <td>0</td>\n",
       "      <td>0</td>\n",
       "    </tr>\n",
       "    <tr>\n",
       "      <th>65281</th>\n",
       "      <td>2020-01-23</td>\n",
       "      <td>India</td>\n",
       "      <td>0</td>\n",
       "      <td>0</td>\n",
       "      <td>0</td>\n",
       "    </tr>\n",
       "    <tr>\n",
       "      <th>65282</th>\n",
       "      <td>2020-01-24</td>\n",
       "      <td>India</td>\n",
       "      <td>0</td>\n",
       "      <td>0</td>\n",
       "      <td>0</td>\n",
       "    </tr>\n",
       "    <tr>\n",
       "      <th>65283</th>\n",
       "      <td>2020-01-25</td>\n",
       "      <td>India</td>\n",
       "      <td>0</td>\n",
       "      <td>0</td>\n",
       "      <td>0</td>\n",
       "    </tr>\n",
       "    <tr>\n",
       "      <th>65284</th>\n",
       "      <td>2020-01-26</td>\n",
       "      <td>India</td>\n",
       "      <td>0</td>\n",
       "      <td>0</td>\n",
       "      <td>0</td>\n",
       "    </tr>\n",
       "    <tr>\n",
       "      <th>...</th>\n",
       "      <td>...</td>\n",
       "      <td>...</td>\n",
       "      <td>...</td>\n",
       "      <td>...</td>\n",
       "      <td>...</td>\n",
       "    </tr>\n",
       "    <tr>\n",
       "      <th>66091</th>\n",
       "      <td>2022-04-12</td>\n",
       "      <td>India</td>\n",
       "      <td>43038016</td>\n",
       "      <td>0</td>\n",
       "      <td>521736</td>\n",
       "    </tr>\n",
       "    <tr>\n",
       "      <th>66092</th>\n",
       "      <td>2022-04-13</td>\n",
       "      <td>India</td>\n",
       "      <td>43039023</td>\n",
       "      <td>0</td>\n",
       "      <td>521737</td>\n",
       "    </tr>\n",
       "    <tr>\n",
       "      <th>66093</th>\n",
       "      <td>2022-04-14</td>\n",
       "      <td>India</td>\n",
       "      <td>43039972</td>\n",
       "      <td>0</td>\n",
       "      <td>521743</td>\n",
       "    </tr>\n",
       "    <tr>\n",
       "      <th>66094</th>\n",
       "      <td>2022-04-15</td>\n",
       "      <td>India</td>\n",
       "      <td>43040947</td>\n",
       "      <td>0</td>\n",
       "      <td>521747</td>\n",
       "    </tr>\n",
       "    <tr>\n",
       "      <th>66095</th>\n",
       "      <td>2022-04-16</td>\n",
       "      <td>India</td>\n",
       "      <td>43042097</td>\n",
       "      <td>0</td>\n",
       "      <td>521751</td>\n",
       "    </tr>\n",
       "  </tbody>\n",
       "</table>\n",
       "<p>816 rows × 5 columns</p>\n",
       "</div>"
      ],
      "text/plain": [
       "             Date Country  Confirmed  Recovered  Deaths\n",
       "65280  2020-01-22   India          0          0       0\n",
       "65281  2020-01-23   India          0          0       0\n",
       "65282  2020-01-24   India          0          0       0\n",
       "65283  2020-01-25   India          0          0       0\n",
       "65284  2020-01-26   India          0          0       0\n",
       "...           ...     ...        ...        ...     ...\n",
       "66091  2022-04-12   India   43038016          0  521736\n",
       "66092  2022-04-13   India   43039023          0  521737\n",
       "66093  2022-04-14   India   43039972          0  521743\n",
       "66094  2022-04-15   India   43040947          0  521747\n",
       "66095  2022-04-16   India   43042097          0  521751\n",
       "\n",
       "[816 rows x 5 columns]"
      ]
     },
     "execution_count": 34,
     "metadata": {},
     "output_type": "execute_result"
    }
   ],
   "source": [
    "country_india"
   ]
  },
  {
   "cell_type": "code",
   "execution_count": 35,
   "id": "4436e51b-b3a2-43cc-9cc5-f08a2849f2ca",
   "metadata": {},
   "outputs": [
    {
     "data": {
      "text/plain": [
       "Date         2022-04-16\n",
       "Country           India\n",
       "Confirmed      43042097\n",
       "Recovered             0\n",
       "Deaths           521751\n",
       "Name: 66095, dtype: object"
      ]
     },
     "execution_count": 35,
     "metadata": {},
     "output_type": "execute_result"
    }
   ],
   "source": [
    "country_india.loc[66095]"
   ]
  },
  {
   "cell_type": "code",
   "execution_count": 36,
   "id": "1aabbc72-0265-483f-b9ca-f622f0bb9847",
   "metadata": {},
   "outputs": [
    {
     "data": {
      "text/plain": [
       "Date         2020-01-22\n",
       "Country           India\n",
       "Confirmed             0\n",
       "Recovered             0\n",
       "Deaths                0\n",
       "Name: 65280, dtype: object"
      ]
     },
     "execution_count": 36,
     "metadata": {},
     "output_type": "execute_result"
    }
   ],
   "source": [
    "country_india.iloc[0]"
   ]
  },
  {
   "cell_type": "code",
   "execution_count": 37,
   "id": "3465506a-a9a4-4d63-a583-96f1446b89f2",
   "metadata": {},
   "outputs": [],
   "source": [
    "# country_india.iloc[66095] and country_india.loc[0] is not applicable"
   ]
  },
  {
   "cell_type": "code",
   "execution_count": null,
   "id": "3f41c67a-29ac-4832-b263-1702753c20d9",
   "metadata": {},
   "outputs": [],
   "source": []
  }
 ],
 "metadata": {
  "kernelspec": {
   "display_name": "Python 3 (ipykernel)",
   "language": "python",
   "name": "python3"
  },
  "language_info": {
   "codemirror_mode": {
    "name": "ipython",
    "version": 3
   },
   "file_extension": ".py",
   "mimetype": "text/x-python",
   "name": "python",
   "nbconvert_exporter": "python",
   "pygments_lexer": "ipython3",
   "version": "3.11.4"
  }
 },
 "nbformat": 4,
 "nbformat_minor": 5
}
