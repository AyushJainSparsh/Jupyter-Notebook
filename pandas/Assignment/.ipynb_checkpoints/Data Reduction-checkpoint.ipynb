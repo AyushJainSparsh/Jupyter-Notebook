{
 "cells": [
  {
   "cell_type": "raw",
   "id": "1202b0b1-d76f-47ba-af0c-7bbdfb5637c3",
   "metadata": {},
   "source": [
    "Task :- Perform the Data reduction operation on given dataset"
   ]
  },
  {
   "cell_type": "code",
   "execution_count": 1,
   "id": "b43e3e54-e26a-4311-936d-bc16f3b3fedb",
   "metadata": {},
   "outputs": [],
   "source": [
    "import pandas as pd\n",
    "from sklearn.model_selection import train_test_split\n",
    "from sklearn.preprocessing import StandardScaler\n",
    "from sklearn.decomposition import PCA"
   ]
  },
  {
   "cell_type": "code",
   "execution_count": 2,
   "id": "15b58d10-7d52-4569-b169-7a0c5d671a6a",
   "metadata": {},
   "outputs": [],
   "source": [
    "Data = pd.read_csv(r'C:\\Users\\ayush\\OneDrive\\Desktop\\jupyter notebook\\pandas\\covid\\key-countries-pivoted.csv')\n",
    "del Data['Date']"
   ]
  },
  {
   "cell_type": "code",
   "execution_count": 3,
   "id": "5706599a-0e66-4ea0-bd79-ad6ff8ffcf13",
   "metadata": {},
   "outputs": [
    {
     "data": {
      "text/html": [
       "<div>\n",
       "<style scoped>\n",
       "    .dataframe tbody tr th:only-of-type {\n",
       "        vertical-align: middle;\n",
       "    }\n",
       "\n",
       "    .dataframe tbody tr th {\n",
       "        vertical-align: top;\n",
       "    }\n",
       "\n",
       "    .dataframe thead th {\n",
       "        text-align: right;\n",
       "    }\n",
       "</style>\n",
       "<table border=\"1\" class=\"dataframe\">\n",
       "  <thead>\n",
       "    <tr style=\"text-align: right;\">\n",
       "      <th></th>\n",
       "      <th>China</th>\n",
       "      <th>US</th>\n",
       "      <th>United_Kingdom</th>\n",
       "      <th>Italy</th>\n",
       "      <th>France</th>\n",
       "      <th>Germany</th>\n",
       "      <th>Spain</th>\n",
       "      <th>Iran</th>\n",
       "    </tr>\n",
       "  </thead>\n",
       "  <tbody>\n",
       "    <tr>\n",
       "      <th>0</th>\n",
       "      <td>548</td>\n",
       "      <td>1</td>\n",
       "      <td>0</td>\n",
       "      <td>0</td>\n",
       "      <td>0</td>\n",
       "      <td>0</td>\n",
       "      <td>0</td>\n",
       "      <td>0</td>\n",
       "    </tr>\n",
       "    <tr>\n",
       "      <th>1</th>\n",
       "      <td>643</td>\n",
       "      <td>1</td>\n",
       "      <td>0</td>\n",
       "      <td>0</td>\n",
       "      <td>0</td>\n",
       "      <td>0</td>\n",
       "      <td>0</td>\n",
       "      <td>0</td>\n",
       "    </tr>\n",
       "    <tr>\n",
       "      <th>2</th>\n",
       "      <td>920</td>\n",
       "      <td>2</td>\n",
       "      <td>0</td>\n",
       "      <td>0</td>\n",
       "      <td>2</td>\n",
       "      <td>0</td>\n",
       "      <td>0</td>\n",
       "      <td>0</td>\n",
       "    </tr>\n",
       "    <tr>\n",
       "      <th>3</th>\n",
       "      <td>1406</td>\n",
       "      <td>2</td>\n",
       "      <td>0</td>\n",
       "      <td>0</td>\n",
       "      <td>3</td>\n",
       "      <td>0</td>\n",
       "      <td>0</td>\n",
       "      <td>0</td>\n",
       "    </tr>\n",
       "    <tr>\n",
       "      <th>4</th>\n",
       "      <td>2075</td>\n",
       "      <td>5</td>\n",
       "      <td>0</td>\n",
       "      <td>0</td>\n",
       "      <td>3</td>\n",
       "      <td>0</td>\n",
       "      <td>0</td>\n",
       "      <td>0</td>\n",
       "    </tr>\n",
       "  </tbody>\n",
       "</table>\n",
       "</div>"
      ],
      "text/plain": [
       "   China  US  United_Kingdom  Italy  France  Germany  Spain  Iran\n",
       "0    548   1               0      0       0        0      0     0\n",
       "1    643   1               0      0       0        0      0     0\n",
       "2    920   2               0      0       2        0      0     0\n",
       "3   1406   2               0      0       3        0      0     0\n",
       "4   2075   5               0      0       3        0      0     0"
      ]
     },
     "execution_count": 3,
     "metadata": {},
     "output_type": "execute_result"
    }
   ],
   "source": [
    "Data.head()"
   ]
  },
  {
   "cell_type": "code",
   "execution_count": 4,
   "id": "c0a5b4f7-ef3a-4df4-bacc-6298542ae8da",
   "metadata": {},
   "outputs": [
    {
     "name": "stdout",
     "output_type": "stream",
     "text": [
      "<class 'pandas.core.frame.DataFrame'>\n",
      "RangeIndex: 816 entries, 0 to 815\n",
      "Data columns (total 8 columns):\n",
      " #   Column          Non-Null Count  Dtype\n",
      "---  ------          --------------  -----\n",
      " 0   China           816 non-null    int64\n",
      " 1   US              816 non-null    int64\n",
      " 2   United_Kingdom  816 non-null    int64\n",
      " 3   Italy           816 non-null    int64\n",
      " 4   France          816 non-null    int64\n",
      " 5   Germany         816 non-null    int64\n",
      " 6   Spain           816 non-null    int64\n",
      " 7   Iran            816 non-null    int64\n",
      "dtypes: int64(8)\n",
      "memory usage: 51.1 KB\n"
     ]
    }
   ],
   "source": [
    "Data.info()"
   ]
  },
  {
   "cell_type": "code",
   "execution_count": 5,
   "id": "7d73dfb6-9ee4-447b-8311-a0ed1728751c",
   "metadata": {},
   "outputs": [],
   "source": [
    "x = Data.iloc[ : , : -1].values\n",
    "y = Data.iloc[ : , -1].values"
   ]
  },
  {
   "cell_type": "code",
   "execution_count": 6,
   "id": "af70a1ed-6e22-4d89-9594-dbd58e038df7",
   "metadata": {},
   "outputs": [],
   "source": [
    "x_train, x_test, y_train, y_test = train_test_split(x, y, test_size = 0.2, random_state = 0)"
   ]
  },
  {
   "cell_type": "code",
   "execution_count": 7,
   "id": "5f522253-9c15-4184-944c-030bbbebfdc7",
   "metadata": {},
   "outputs": [
    {
     "data": {
      "text/plain": [
       "(652, 7)"
      ]
     },
     "execution_count": 7,
     "metadata": {},
     "output_type": "execute_result"
    }
   ],
   "source": [
    "x_train.shape"
   ]
  },
  {
   "cell_type": "code",
   "execution_count": 8,
   "id": "0ef3f56b-7383-4d61-8a47-1735d59bf892",
   "metadata": {},
   "outputs": [
    {
     "data": {
      "text/plain": [
       "(164, 7)"
      ]
     },
     "execution_count": 8,
     "metadata": {},
     "output_type": "execute_result"
    }
   ],
   "source": [
    "x_test.shape"
   ]
  },
  {
   "cell_type": "code",
   "execution_count": 9,
   "id": "ccd2e7a0-a3e0-4c1a-82ee-521c7ffc98f8",
   "metadata": {},
   "outputs": [],
   "source": [
    "sc = StandardScaler()\n",
    "x_train = sc.fit_transform(x_train)\n",
    "x_test = sc.transform(x_test)\n"
   ]
  },
  {
   "cell_type": "code",
   "execution_count": 10,
   "id": "07249c55-929e-46d2-9970-994645cb39d3",
   "metadata": {},
   "outputs": [],
   "source": [
    "pca = PCA(n_components = 3)\n",
    "x_train = pca.fit_transform(x_train)\n",
    "x_test = pca.transform(x_test)"
   ]
  },
  {
   "cell_type": "code",
   "execution_count": 11,
   "id": "e634f25c-cb1e-4e52-8c7f-ca92bd246568",
   "metadata": {},
   "outputs": [
    {
     "data": {
      "text/plain": [
       "(652, 3)"
      ]
     },
     "execution_count": 11,
     "metadata": {},
     "output_type": "execute_result"
    }
   ],
   "source": [
    "x_train.shape"
   ]
  },
  {
   "cell_type": "code",
   "execution_count": 12,
   "id": "f60711db-51de-4cc1-9a6f-d26abc8d07ac",
   "metadata": {},
   "outputs": [
    {
     "data": {
      "text/plain": [
       "(164, 3)"
      ]
     },
     "execution_count": 12,
     "metadata": {},
     "output_type": "execute_result"
    }
   ],
   "source": [
    "x_test.shape"
   ]
  }
 ],
 "metadata": {
  "kernelspec": {
   "display_name": "Python 3 (ipykernel)",
   "language": "python",
   "name": "python3"
  },
  "language_info": {
   "codemirror_mode": {
    "name": "ipython",
    "version": 3
   },
   "file_extension": ".py",
   "mimetype": "text/x-python",
   "name": "python",
   "nbconvert_exporter": "python",
   "pygments_lexer": "ipython3",
   "version": "3.11.4"
  }
 },
 "nbformat": 4,
 "nbformat_minor": 5
}
