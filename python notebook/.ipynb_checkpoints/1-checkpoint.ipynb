{
 "cells": [
  {
   "cell_type": "code",
   "execution_count": 1,
   "id": "b76bdaca-32d1-44a2-85f0-e34cbb1889ff",
   "metadata": {},
   "outputs": [],
   "source": [
    "import keyword as ky"
   ]
  },
  {
   "cell_type": "code",
   "execution_count": 2,
   "id": "a41aba67-c54a-41e2-9b9c-411a5772418c",
   "metadata": {},
   "outputs": [
    {
     "name": "stdout",
     "output_type": "stream",
     "text": [
      "['False', 'None', 'True', 'and', 'as', 'assert', 'async', 'await', 'break', 'class', 'continue', 'def', 'del', 'elif', 'else', 'except', 'finally', 'for', 'from', 'global', 'if', 'import', 'in', 'is', 'lambda', 'nonlocal', 'not', 'or', 'pass', 'raise', 'return', 'try', 'while', 'with', 'yield']\n"
     ]
    }
   ],
   "source": [
    "print(ky.kwlist)"
   ]
  },
  {
   "cell_type": "code",
   "execution_count": 3,
   "id": "85a99a08-d8b1-4fe1-b035-ab108215ebac",
   "metadata": {},
   "outputs": [
    {
     "name": "stdout",
     "output_type": "stream",
     "text": [
      "Total number of keyword in python :  35\n"
     ]
    }
   ],
   "source": [
    "print(\"Total number of keyword in python : \" , len(ky.kwlist))"
   ]
  },
  {
   "cell_type": "code",
   "execution_count": 4,
   "id": "b2b64428-fb89-4d29-abde-59736a997868",
   "metadata": {},
   "outputs": [
    {
     "name": "stdout",
     "output_type": "stream",
     "text": [
      "140722364081000\n"
     ]
    }
   ],
   "source": [
    "i  = 3\n",
    "print(id(i)) # shows address of value 3"
   ]
  },
  {
   "cell_type": "code",
   "execution_count": 5,
   "id": "b43d9788-e748-42d2-9988-e8aef3149f23",
   "metadata": {},
   "outputs": [],
   "source": [
    "import numpy as np"
   ]
  },
  {
   "cell_type": "code",
   "execution_count": 6,
   "id": "cef03187-bef6-4c49-96db-40afedb7f23f",
   "metadata": {},
   "outputs": [],
   "source": [
    "#dir(np)"
   ]
  },
  {
   "cell_type": "code",
   "execution_count": 7,
   "id": "88a43421-af2b-422f-a490-94fd71acf639",
   "metadata": {},
   "outputs": [],
   "source": [
    "list=[5,2]"
   ]
  },
  {
   "cell_type": "code",
   "execution_count": 8,
   "id": "7a00ba8b-bfc4-4d52-a231-98c97baffe0e",
   "metadata": {},
   "outputs": [],
   "source": [
    "arr=np.array(list)"
   ]
  },
  {
   "cell_type": "code",
   "execution_count": 9,
   "id": "ccc442b3-2026-41e7-b5c1-ff7db4b4d43c",
   "metadata": {},
   "outputs": [],
   "source": [
    "#dir(arr)"
   ]
  },
  {
   "cell_type": "code",
   "execution_count": 10,
   "id": "56b356cd-f99a-4b20-8709-db7504241a46",
   "metadata": {},
   "outputs": [],
   "source": [
    "from numpy import *"
   ]
  },
  {
   "cell_type": "code",
   "execution_count": 11,
   "id": "c3680ac1-e790-48e5-9911-3e507470df8f",
   "metadata": {},
   "outputs": [],
   "source": [
    "ar=array(list)"
   ]
  },
  {
   "cell_type": "code",
   "execution_count": 12,
   "id": "55ef1dd5-36e7-4b6f-9a0f-9739621e2c51",
   "metadata": {},
   "outputs": [
    {
     "data": {
      "text/plain": [
       "array([5, 2])"
      ]
     },
     "execution_count": 12,
     "metadata": {},
     "output_type": "execute_result"
    }
   ],
   "source": [
    "ar"
   ]
  },
  {
   "cell_type": "code",
   "execution_count": 14,
   "id": "e0984650-737e-4770-a468-0cbb37b84c13",
   "metadata": {},
   "outputs": [],
   "source": [
    "#array.__doc__"
   ]
  },
  {
   "cell_type": "code",
   "execution_count": null,
   "id": "3458e2d9-a11f-4389-8571-ead5b8052094",
   "metadata": {},
   "outputs": [],
   "source": []
  }
 ],
 "metadata": {
  "kernelspec": {
   "display_name": "Python 3 (ipykernel)",
   "language": "python",
   "name": "python3"
  },
  "language_info": {
   "codemirror_mode": {
    "name": "ipython",
    "version": 3
   },
   "file_extension": ".py",
   "mimetype": "text/x-python",
   "name": "python",
   "nbconvert_exporter": "python",
   "pygments_lexer": "ipython3",
   "version": "3.11.4"
  }
 },
 "nbformat": 4,
 "nbformat_minor": 5
}
