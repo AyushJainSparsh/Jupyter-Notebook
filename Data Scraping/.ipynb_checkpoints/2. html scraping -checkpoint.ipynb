{
 "cells": [
  {
   "cell_type": "code",
   "execution_count": 1,
   "id": "52e41a2d-2322-456a-9a6d-ec8e05a68bd4",
   "metadata": {},
   "outputs": [],
   "source": [
    "import requests as rq"
   ]
  },
  {
   "cell_type": "code",
   "execution_count": 4,
   "id": "9dbbb690-0739-468f-816c-7cffe8ae0c23",
   "metadata": {},
   "outputs": [],
   "source": [
    "#!pip install beautifulsoup4"
   ]
  },
  {
   "cell_type": "code",
   "execution_count": 3,
   "id": "52260b18-8efd-48bb-b7f0-328b77a0eb63",
   "metadata": {},
   "outputs": [],
   "source": [
    "import bs4"
   ]
  },
  {
   "cell_type": "code",
   "execution_count": 6,
   "id": "19c74478-9964-4bd6-a21f-d033dcee52be",
   "metadata": {},
   "outputs": [],
   "source": [
    "res = rq.get(\"https://books.toscrape.com/\")"
   ]
  },
  {
   "cell_type": "code",
   "execution_count": 7,
   "id": "197ff2fc-0a45-4dbe-88d8-055356186c11",
   "metadata": {},
   "outputs": [
    {
     "data": {
      "text/plain": [
       "<Response [200]>"
      ]
     },
     "execution_count": 7,
     "metadata": {},
     "output_type": "execute_result"
    }
   ],
   "source": [
    "res"
   ]
  },
  {
   "cell_type": "code",
   "execution_count": 23,
   "id": "02c00c40-a678-42ae-b379-ed37daa3ce63",
   "metadata": {},
   "outputs": [],
   "source": [
    "#res.text"
   ]
  },
  {
   "cell_type": "code",
   "execution_count": 10,
   "id": "d5c457d5-9d1f-4b24-aa56-7368b98aef73",
   "metadata": {},
   "outputs": [],
   "source": [
    "soup = bs4.BeautifulSoup(res.text)"
   ]
  },
  {
   "cell_type": "code",
   "execution_count": 12,
   "id": "7e0a3ade-6a33-462f-b7cd-b31863d50e8d",
   "metadata": {},
   "outputs": [],
   "source": [
    "a_list = list(soup.select(\"a\"))"
   ]
  },
  {
   "cell_type": "code",
   "execution_count": 14,
   "id": "2982099c-04a8-4ed7-af86-faaaedc123f6",
   "metadata": {},
   "outputs": [
    {
     "data": {
      "text/plain": [
       "<a href=\"index.html\">Books to Scrape</a>"
      ]
     },
     "execution_count": 14,
     "metadata": {},
     "output_type": "execute_result"
    }
   ],
   "source": [
    "a_list[0]"
   ]
  },
  {
   "cell_type": "code",
   "execution_count": 15,
   "id": "5bfba882-2818-4e2e-a7f8-c6aa66de5ce8",
   "metadata": {},
   "outputs": [
    {
     "data": {
      "text/plain": [
       "'index.html'"
      ]
     },
     "execution_count": 15,
     "metadata": {},
     "output_type": "execute_result"
    }
   ],
   "source": [
    "a_list[0][\"href\"]"
   ]
  },
  {
   "cell_type": "code",
   "execution_count": 18,
   "id": "1a0ef65d-5f13-4972-89ae-6fbb4db4f51e",
   "metadata": {},
   "outputs": [],
   "source": [
    "book_list = list(soup.select(\"ol.row article.product_pod a\"))"
   ]
  },
  {
   "cell_type": "code",
   "execution_count": 19,
   "id": "d90661dd-03ce-4e36-80d9-3d2264d8adc7",
   "metadata": {},
   "outputs": [],
   "source": [
    "next_link = list(soup.select(\"ul.pager li.next a\"))"
   ]
  },
  {
   "cell_type": "code",
   "execution_count": 20,
   "id": "5a71a91b-d477-412c-aa14-8db1f26869fc",
   "metadata": {},
   "outputs": [
    {
     "data": {
      "text/plain": [
       "[<a href=\"catalogue/page-2.html\">next</a>]"
      ]
     },
     "execution_count": 20,
     "metadata": {},
     "output_type": "execute_result"
    }
   ],
   "source": [
    "next_link"
   ]
  },
  {
   "cell_type": "code",
   "execution_count": 24,
   "id": "956ef267-b565-4c80-ba9b-61faafe5fadc",
   "metadata": {},
   "outputs": [],
   "source": [
    "sample_page_link = \"https://books.toscrape.com/\" + book_list[0][\"href\"]"
   ]
  },
  {
   "cell_type": "code",
   "execution_count": 25,
   "id": "a9054ff5-fa10-4571-b121-9fced8b2da2f",
   "metadata": {},
   "outputs": [
    {
     "data": {
      "text/plain": [
       "'https://books.toscrape.com/catalogue/a-light-in-the-attic_1000/index.html'"
      ]
     },
     "execution_count": 25,
     "metadata": {},
     "output_type": "execute_result"
    }
   ],
   "source": [
    "sample_page_link"
   ]
  },
  {
   "cell_type": "code",
   "execution_count": 27,
   "id": "2681a3c7-b759-45bf-b9e8-5c9f1d3c4356",
   "metadata": {},
   "outputs": [],
   "source": [
    "book_soup = bs4.BeautifulSoup(rq.get(sample_page_link).text)"
   ]
  },
  {
   "cell_type": "code",
   "execution_count": 32,
   "id": "f88dd21e-5aed-4ef6-8f85-3d82c422e5b2",
   "metadata": {},
   "outputs": [
    {
     "data": {
      "text/plain": [
       "'A Light in the Attic'"
      ]
     },
     "execution_count": 32,
     "metadata": {},
     "output_type": "execute_result"
    }
   ],
   "source": [
    "book_soup.select(\"div.product_main h1\")[0].text"
   ]
  },
  {
   "cell_type": "code",
   "execution_count": 33,
   "id": "48d9ac9a-d478-4a64-8ec8-1ce7c34fee4d",
   "metadata": {},
   "outputs": [
    {
     "data": {
      "text/plain": [
       "'A Light in the Attic'"
      ]
     },
     "execution_count": 33,
     "metadata": {},
     "output_type": "execute_result"
    }
   ],
   "source": [
    "book_soup.select_one(\"div.product_main h1\").text"
   ]
  },
  {
   "cell_type": "code",
   "execution_count": 34,
   "id": "7f1bab60-02d3-4bcc-99f3-d4d7f8bcf0fe",
   "metadata": {},
   "outputs": [
    {
     "data": {
      "text/plain": [
       "'Â£51.77'"
      ]
     },
     "execution_count": 34,
     "metadata": {},
     "output_type": "execute_result"
    }
   ],
   "source": [
    "book_soup.select_one(\"div.product_main p.price_color\").text"
   ]
  },
  {
   "cell_type": "code",
   "execution_count": 35,
   "id": "5d40c22b-fd12-4344-bcf5-cbfac1c1e930",
   "metadata": {},
   "outputs": [
    {
     "data": {
      "text/plain": [
       "\"It's hard to imagine a world without A Light in the Attic. This now-classic collection of poetry and drawings from Shel Silverstein celebrates its 20th anniversary with this special edition. Silverstein's humorous and creative verse can amuse the dowdiest of readers. Lemon-faced adults and fidgety kids sit still and read these rhythmic words and laugh and smile and love th It's hard to imagine a world without A Light in the Attic. This now-classic collection of poetry and drawings from Shel Silverstein celebrates its 20th anniversary with this special edition. Silverstein's humorous and creative verse can amuse the dowdiest of readers. Lemon-faced adults and fidgety kids sit still and read these rhythmic words and laugh and smile and love that Silverstein. Need proof of his genius? RockabyeRockabye baby, in the treetopDon't you know a treetopIs no safe place to rock?And who put you up there,And your cradle, too?Baby, I think someone down here'sGot it in for you. Shel, you never sounded so good. ...more\""
      ]
     },
     "execution_count": 35,
     "metadata": {},
     "output_type": "execute_result"
    }
   ],
   "source": [
    "book_soup.select_one(\"#product_description + p\").text"
   ]
  },
  {
   "cell_type": "code",
   "execution_count": 41,
   "id": "c7965658-c1f9-496a-b3d7-25a518e7e3d7",
   "metadata": {},
   "outputs": [],
   "source": [
    "#book_soup.select_one(\"table.table\")"
   ]
  },
  {
   "cell_type": "code",
   "execution_count": 42,
   "id": "a5dd783d-de17-405a-898d-d8ca5eb9be68",
   "metadata": {},
   "outputs": [],
   "source": [
    "import pandas as pd"
   ]
  },
  {
   "cell_type": "code",
   "execution_count": 47,
   "id": "b4332d04-1c58-4793-8c99-be81e09e2ec7",
   "metadata": {},
   "outputs": [
    {
     "name": "stderr",
     "output_type": "stream",
     "text": [
      "C:\\Users\\ayush\\AppData\\Local\\Temp\\ipykernel_21516\\2583253717.py:1: FutureWarning: Passing literal html to 'read_html' is deprecated and will be removed in a future version. To read from a literal string, wrap it in a 'StringIO' object.\n",
      "  pd.read_html(str(book_soup.select_one(\"table.table\")))[0].set_index(0).T\n"
     ]
    },
    {
     "data": {
      "text/html": [
       "<div>\n",
       "<style scoped>\n",
       "    .dataframe tbody tr th:only-of-type {\n",
       "        vertical-align: middle;\n",
       "    }\n",
       "\n",
       "    .dataframe tbody tr th {\n",
       "        vertical-align: top;\n",
       "    }\n",
       "\n",
       "    .dataframe thead th {\n",
       "        text-align: right;\n",
       "    }\n",
       "</style>\n",
       "<table border=\"1\" class=\"dataframe\">\n",
       "  <thead>\n",
       "    <tr style=\"text-align: right;\">\n",
       "      <th></th>\n",
       "      <th>UPC</th>\n",
       "      <th>Product Type</th>\n",
       "      <th>Price (excl. tax)</th>\n",
       "      <th>Price (incl. tax)</th>\n",
       "      <th>Tax</th>\n",
       "      <th>Availability</th>\n",
       "      <th>Number of reviews</th>\n",
       "    </tr>\n",
       "  </thead>\n",
       "  <tbody>\n",
       "    <tr>\n",
       "      <th>1</th>\n",
       "      <td>a897fe39b1053632</td>\n",
       "      <td>Books</td>\n",
       "      <td>Â£51.77</td>\n",
       "      <td>Â£51.77</td>\n",
       "      <td>Â£0.00</td>\n",
       "      <td>In stock (22 available)</td>\n",
       "      <td>0</td>\n",
       "    </tr>\n",
       "  </tbody>\n",
       "</table>\n",
       "</div>"
      ],
      "text/plain": [
       "0               UPC Product Type Price (excl. tax) Price (incl. tax)     Tax  \\\n",
       "1  a897fe39b1053632        Books           Â£51.77           Â£51.77  Â£0.00   \n",
       "\n",
       "0             Availability Number of reviews  \n",
       "1  In stock (22 available)                 0  "
      ]
     },
     "execution_count": 47,
     "metadata": {},
     "output_type": "execute_result"
    }
   ],
   "source": [
    "pd.read_html(str(book_soup.select_one(\"table.table\")))[0].set_index(0).T"
   ]
  },
  {
   "cell_type": "code",
   "execution_count": null,
   "id": "07be4edc-1736-4368-ae77-d42b3ff70968",
   "metadata": {},
   "outputs": [],
   "source": []
  }
 ],
 "metadata": {
  "kernelspec": {
   "display_name": "Python 3 (ipykernel)",
   "language": "python",
   "name": "python3"
  },
  "language_info": {
   "codemirror_mode": {
    "name": "ipython",
    "version": 3
   },
   "file_extension": ".py",
   "mimetype": "text/x-python",
   "name": "python",
   "nbconvert_exporter": "python",
   "pygments_lexer": "ipython3",
   "version": "3.11.4"
  }
 },
 "nbformat": 4,
 "nbformat_minor": 5
}
