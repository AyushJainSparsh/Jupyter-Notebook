{
 "cells": [
  {
   "cell_type": "code",
   "execution_count": 1,
   "id": "cc70189b-1d86-49d0-a0a1-c1a9c802f5a1",
   "metadata": {},
   "outputs": [],
   "source": [
    "import pdb as p"
   ]
  },
  {
   "cell_type": "code",
   "execution_count": 3,
   "id": "87883f50-2de8-4fe3-9095-297cb76c4c55",
   "metadata": {},
   "outputs": [
    {
     "name": "stdout",
     "output_type": "stream",
     "text": [
      "> \u001b[1;32mc:\\users\\ayush\\appdata\\local\\temp\\ipykernel_21044\\1192122181.py\u001b[0m(4)\u001b[0;36mdebug\u001b[1;34m()\u001b[0m\n",
      "\n"
     ]
    },
    {
     "name": "stdin",
     "output_type": "stream",
     "text": [
      "ipdb>  list\n"
     ]
    },
    {
     "name": "stdout",
     "output_type": "stream",
     "text": [
      "\u001b[0;32m      1 \u001b[0m\u001b[1;32mdef\u001b[0m \u001b[0mdebug\u001b[0m\u001b[1;33m(\u001b[0m\u001b[0mn\u001b[0m\u001b[1;33m)\u001b[0m\u001b[1;33m:\u001b[0m\u001b[1;33m\u001b[0m\u001b[1;33m\u001b[0m\u001b[0m\n",
      "\u001b[0;32m      2 \u001b[0m    \u001b[1;32mfor\u001b[0m \u001b[0mi\u001b[0m \u001b[1;32min\u001b[0m \u001b[0mrange\u001b[0m\u001b[1;33m(\u001b[0m\u001b[0mn\u001b[0m\u001b[1;33m)\u001b[0m\u001b[1;33m:\u001b[0m\u001b[1;33m\u001b[0m\u001b[1;33m\u001b[0m\u001b[0m\n",
      "\u001b[0;32m      3 \u001b[0m        \u001b[0mp\u001b[0m\u001b[1;33m.\u001b[0m\u001b[0mset_trace\u001b[0m\u001b[1;33m(\u001b[0m\u001b[1;33m)\u001b[0m\u001b[1;33m\u001b[0m\u001b[1;33m\u001b[0m\u001b[0m\n",
      "\u001b[1;32m----> 4 \u001b[1;33m        \u001b[0mprint\u001b[0m\u001b[1;33m(\u001b[0m\u001b[0mi\u001b[0m\u001b[1;33m)\u001b[0m\u001b[1;33m\u001b[0m\u001b[1;33m\u001b[0m\u001b[0m\n",
      "\u001b[0m\u001b[0;32m      5 \u001b[0m\u001b[1;33m\u001b[0m\u001b[0m\n",
      "\u001b[0;32m      6 \u001b[0m\u001b[0mdebug\u001b[0m\u001b[1;33m(\u001b[0m\u001b[1;36m5\u001b[0m\u001b[1;33m)\u001b[0m\u001b[1;33m\u001b[0m\u001b[1;33m\u001b[0m\u001b[0m\n",
      "\n"
     ]
    },
    {
     "name": "stdin",
     "output_type": "stream",
     "text": [
      "ipdb>  p i\n"
     ]
    },
    {
     "name": "stdout",
     "output_type": "stream",
     "text": [
      "0\n"
     ]
    },
    {
     "name": "stdin",
     "output_type": "stream",
     "text": [
      "ipdb>  p n\n"
     ]
    },
    {
     "name": "stdout",
     "output_type": "stream",
     "text": [
      "5\n"
     ]
    },
    {
     "name": "stdin",
     "output_type": "stream",
     "text": [
      "ipdb>  p locals()\n"
     ]
    },
    {
     "name": "stdout",
     "output_type": "stream",
     "text": [
      "{'n': 5, 'i': 0}\n"
     ]
    },
    {
     "name": "stdin",
     "output_type": "stream",
     "text": [
      "ipdb>  p globals()\n"
     ]
    },
    {
     "name": "stdout",
     "output_type": "stream",
     "text": [
      "{'__name__': '__main__', '__doc__': 'Automatically created module for IPython interactive environment', '__package__': None, '__loader__': None, '__spec__': None, '__builtin__': <module 'builtins' (built-in)>, '__builtins__': <module 'builtins' (built-in)>, '_ih': ['', 'import pdb as p', 'def debug(n):', 'def debug(n):\\n    for i in range(n):\\n        p.set_trace()\\n        print(i)\\n\\ndebug(5)'], '_oh': {}, '_dh': [WindowsPath('C:/Users/ayush/OneDrive/Desktop/python notebook')], 'In': ['', 'import pdb as p', 'def debug(n):', 'def debug(n):\\n    for i in range(n):\\n        p.set_trace()\\n        print(i)\\n\\ndebug(5)'], 'Out': {}, 'get_ipython': <bound method InteractiveShell.get_ipython of <ipykernel.zmqshell.ZMQInteractiveShell object at 0x000002386284CB10>>, 'exit': <IPython.core.autocall.ZMQExitAutocall object at 0x000002386286EC50>, 'quit': <IPython.core.autocall.ZMQExitAutocall object at 0x000002386286EC50>, 'open': <function open at 0x000002386097F9C0>, '_': '', '__': '', '___': '', '__session__': 'C:\\\\Users\\\\ayush\\\\OneDrive\\\\Desktop\\\\python notebook\\\\Untitled.ipynb', '_i': 'def debug(n):', '_ii': 'import pdb as p', '_iii': '', '_i1': 'import pdb as p', 'p': <module 'pdb' from 'C:\\\\Users\\\\ayush\\\\AppData\\\\Local\\\\Programs\\\\Python\\\\Python311\\\\Lib\\\\pdb.py'>, '_i2': 'def debug(n):', '_i3': 'def debug(n):\\n    for i in range(n):\\n        p.set_trace()\\n        print(i)\\n\\ndebug(5)', 'debug': <function debug at 0x00000238628672E0>}\n"
     ]
    },
    {
     "name": "stdin",
     "output_type": "stream",
     "text": [
      "ipdb>  h\n"
     ]
    },
    {
     "name": "stdout",
     "output_type": "stream",
     "text": [
      "\n",
      "Documented commands (type help <topic>):\n",
      "========================================\n",
      "EOF    commands   enable      list      pinfo2   rv               unt   \n",
      "a      condition  exceptions  ll        pp       s                until \n",
      "alias  cont       exit        longlist  psource  skip_hidden      up    \n",
      "args   context    h           n         q        skip_predicates  w     \n",
      "b      continue   help        next      quit     source           whatis\n",
      "break  d          ignore      p         r        step             where \n",
      "bt     debug      interact    pdef      restart  tbreak         \n",
      "c      disable    j           pdoc      return   u              \n",
      "cl     display    jump        pfile     retval   unalias        \n",
      "clear  down       l           pinfo     run      undisplay      \n",
      "\n",
      "Miscellaneous help topics:\n",
      "==========================\n",
      "exec  pdb\n",
      "\n"
     ]
    },
    {
     "name": "stdin",
     "output_type": "stream",
     "text": [
      "ipdb>  c\n"
     ]
    },
    {
     "name": "stdout",
     "output_type": "stream",
     "text": [
      "0\n",
      "> \u001b[1;32mc:\\users\\ayush\\appdata\\local\\temp\\ipykernel_21044\\1192122181.py\u001b[0m(4)\u001b[0;36mdebug\u001b[1;34m()\u001b[0m\n",
      "\n"
     ]
    },
    {
     "name": "stdin",
     "output_type": "stream",
     "text": [
      "ipdb>  p locals()\n"
     ]
    },
    {
     "name": "stdout",
     "output_type": "stream",
     "text": [
      "{'n': 5, 'i': 1}\n"
     ]
    },
    {
     "name": "stdin",
     "output_type": "stream",
     "text": [
      "ipdb>  q\n"
     ]
    }
   ],
   "source": [
    "def debug(n):\n",
    "    for i in range(n):\n",
    "        p.set_trace()\n",
    "        print(i)\n",
    "\n",
    "debug(5)"
   ]
  },
  {
   "cell_type": "raw",
   "id": "2d702f67-dc4e-4e80-ac60-81cf6fd7735a",
   "metadata": {},
   "source": [
    "c : continue\n",
    "q : quit\n",
    "h : help\n",
    "list\n",
    "p : print\n",
    "p locals\n",
    "p globals"
   ]
  },
  {
   "cell_type": "code",
   "execution_count": null,
   "id": "7f70ea2f-e50e-4ecc-90b1-0c69bd9bbda2",
   "metadata": {},
   "outputs": [],
   "source": []
  }
 ],
 "metadata": {
  "kernelspec": {
   "display_name": "Python 3 (ipykernel)",
   "language": "python",
   "name": "python3"
  },
  "language_info": {
   "codemirror_mode": {
    "name": "ipython",
    "version": 3
   },
   "file_extension": ".py",
   "mimetype": "text/x-python",
   "name": "python",
   "nbconvert_exporter": "python",
   "pygments_lexer": "ipython3",
   "version": "3.11.4"
  }
 },
 "nbformat": 4,
 "nbformat_minor": 5
}
