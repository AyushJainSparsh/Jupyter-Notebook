{
 "cells": [
  {
   "cell_type": "code",
   "execution_count": 1,
   "id": "23c98096-5fa9-4bb2-b008-fe9ecf897e3c",
   "metadata": {},
   "outputs": [],
   "source": [
    "#!pip install requests\n",
    "#!pip install tqdm"
   ]
  },
  {
   "cell_type": "code",
   "execution_count": 2,
   "id": "3b27b913-026f-4ec8-a4d2-2200fbb6cca1",
   "metadata": {},
   "outputs": [],
   "source": [
    "import requests as rq"
   ]
  },
  {
   "cell_type": "code",
   "execution_count": 3,
   "id": "e8a5e90a-1e0c-46a6-bb39-1a4608b53fae",
   "metadata": {},
   "outputs": [],
   "source": [
    "import pandas as pd"
   ]
  },
  {
   "cell_type": "code",
   "execution_count": 19,
   "id": "36d18693-9b89-4912-a269-70092241a997",
   "metadata": {},
   "outputs": [],
   "source": [
    "from tqdm import tqdm"
   ]
  },
  {
   "cell_type": "code",
   "execution_count": 5,
   "id": "2eb7045b-e7a2-4751-9f28-6b8306fcec2f",
   "metadata": {},
   "outputs": [],
   "source": [
    "response = rq.get(\"https://api.mfapi.in/mf\")"
   ]
  },
  {
   "cell_type": "code",
   "execution_count": 6,
   "id": "ac728080-b2df-4322-9fdc-4e4eb9948a32",
   "metadata": {},
   "outputs": [
    {
     "data": {
      "text/plain": [
       "<Response [200]>"
      ]
     },
     "execution_count": 6,
     "metadata": {},
     "output_type": "execute_result"
    }
   ],
   "source": [
    "response"
   ]
  },
  {
   "cell_type": "code",
   "execution_count": 7,
   "id": "9a3402ca-365a-420e-8b67-44c57a63e3c1",
   "metadata": {},
   "outputs": [],
   "source": [
    "all_mf = response.json()"
   ]
  },
  {
   "cell_type": "code",
   "execution_count": 2,
   "id": "93032cf8-127a-4f86-8711-7d6f584c1b0b",
   "metadata": {},
   "outputs": [],
   "source": [
    "all_mf"
   ]
  },
  {
   "cell_type": "code",
   "execution_count": 9,
   "id": "5e617c78-1dc1-4028-8b2b-42df344be5c3",
   "metadata": {},
   "outputs": [
    {
     "data": {
      "text/plain": [
       "list"
      ]
     },
     "execution_count": 9,
     "metadata": {},
     "output_type": "execute_result"
    }
   ],
   "source": [
    "type(all_mf)"
   ]
  },
  {
   "cell_type": "code",
   "execution_count": 10,
   "id": "37713a9e-4d09-4326-bb70-2fe170e807a3",
   "metadata": {},
   "outputs": [
    {
     "data": {
      "text/plain": [
       "{'schemeCode': 100027,\n",
       " 'schemeName': 'Grindlays Super Saver Income Fund-GSSIF-Half Yearly Dividend'}"
      ]
     },
     "execution_count": 10,
     "metadata": {},
     "output_type": "execute_result"
    }
   ],
   "source": [
    "all_mf[0]"
   ]
  },
  {
   "cell_type": "code",
   "execution_count": 11,
   "id": "735d34ae-3df7-4e16-8ad6-5399deee49dd",
   "metadata": {},
   "outputs": [],
   "source": [
    "mf_name=all_mf[0][\"schemeName\"]"
   ]
  },
  {
   "cell_type": "code",
   "execution_count": 12,
   "id": "42c72ea8-a6a1-48d9-a8a1-4b7aef64c186",
   "metadata": {},
   "outputs": [
    {
     "data": {
      "text/plain": [
       "46477"
      ]
     },
     "execution_count": 12,
     "metadata": {},
     "output_type": "execute_result"
    }
   ],
   "source": [
    "len(all_mf)"
   ]
  },
  {
   "cell_type": "code",
   "execution_count": 13,
   "id": "53206162-494e-48b3-87cd-a96c0752afb2",
   "metadata": {},
   "outputs": [],
   "source": [
    "sample_data = rq.get(\"https://api.mfapi.in/mf/100027\").json()"
   ]
  },
  {
   "cell_type": "code",
   "execution_count": 14,
   "id": "3ef53398-b1df-4389-8eb3-2916fa7a2d3d",
   "metadata": {},
   "outputs": [
    {
     "data": {
      "text/plain": [
       "dict_keys(['meta', 'data', 'status'])"
      ]
     },
     "execution_count": 14,
     "metadata": {},
     "output_type": "execute_result"
    }
   ],
   "source": [
    "sample_data.keys()"
   ]
  },
  {
   "cell_type": "code",
   "execution_count": 15,
   "id": "0ccf41df-7010-4171-9217-ae65b8ca633a",
   "metadata": {},
   "outputs": [],
   "source": [
    "#sample_data[\"data\"]"
   ]
  },
  {
   "cell_type": "code",
   "execution_count": 16,
   "id": "a8613a05-538f-47a6-b39a-4231908cbf53",
   "metadata": {},
   "outputs": [
    {
     "data": {
      "text/html": [
       "<div>\n",
       "<style scoped>\n",
       "    .dataframe tbody tr th:only-of-type {\n",
       "        vertical-align: middle;\n",
       "    }\n",
       "\n",
       "    .dataframe tbody tr th {\n",
       "        vertical-align: top;\n",
       "    }\n",
       "\n",
       "    .dataframe thead th {\n",
       "        text-align: right;\n",
       "    }\n",
       "</style>\n",
       "<table border=\"1\" class=\"dataframe\">\n",
       "  <thead>\n",
       "    <tr style=\"text-align: right;\">\n",
       "      <th></th>\n",
       "      <th>date</th>\n",
       "      <th>nav</th>\n",
       "    </tr>\n",
       "  </thead>\n",
       "  <tbody>\n",
       "    <tr>\n",
       "      <th>0</th>\n",
       "      <td>29-05-2008</td>\n",
       "      <td>10.72050</td>\n",
       "    </tr>\n",
       "    <tr>\n",
       "      <th>1</th>\n",
       "      <td>28-05-2008</td>\n",
       "      <td>10.72500</td>\n",
       "    </tr>\n",
       "    <tr>\n",
       "      <th>2</th>\n",
       "      <td>27-05-2008</td>\n",
       "      <td>10.72160</td>\n",
       "    </tr>\n",
       "    <tr>\n",
       "      <th>3</th>\n",
       "      <td>26-05-2008</td>\n",
       "      <td>10.72060</td>\n",
       "    </tr>\n",
       "    <tr>\n",
       "      <th>4</th>\n",
       "      <td>23-05-2008</td>\n",
       "      <td>10.71520</td>\n",
       "    </tr>\n",
       "    <tr>\n",
       "      <th>...</th>\n",
       "      <td>...</td>\n",
       "      <td>...</td>\n",
       "    </tr>\n",
       "    <tr>\n",
       "      <th>526</th>\n",
       "      <td>10-04-2006</td>\n",
       "      <td>10.09060</td>\n",
       "    </tr>\n",
       "    <tr>\n",
       "      <th>527</th>\n",
       "      <td>07-04-2006</td>\n",
       "      <td>10.08560</td>\n",
       "    </tr>\n",
       "    <tr>\n",
       "      <th>528</th>\n",
       "      <td>05-04-2006</td>\n",
       "      <td>10.08360</td>\n",
       "    </tr>\n",
       "    <tr>\n",
       "      <th>529</th>\n",
       "      <td>04-04-2006</td>\n",
       "      <td>10.07960</td>\n",
       "    </tr>\n",
       "    <tr>\n",
       "      <th>530</th>\n",
       "      <td>03-04-2006</td>\n",
       "      <td>10.07740</td>\n",
       "    </tr>\n",
       "  </tbody>\n",
       "</table>\n",
       "<p>531 rows × 2 columns</p>\n",
       "</div>"
      ],
      "text/plain": [
       "           date       nav\n",
       "0    29-05-2008  10.72050\n",
       "1    28-05-2008  10.72500\n",
       "2    27-05-2008  10.72160\n",
       "3    26-05-2008  10.72060\n",
       "4    23-05-2008  10.71520\n",
       "..          ...       ...\n",
       "526  10-04-2006  10.09060\n",
       "527  07-04-2006  10.08560\n",
       "528  05-04-2006  10.08360\n",
       "529  04-04-2006  10.07960\n",
       "530  03-04-2006  10.07740\n",
       "\n",
       "[531 rows x 2 columns]"
      ]
     },
     "execution_count": 16,
     "metadata": {},
     "output_type": "execute_result"
    }
   ],
   "source": [
    "pd.DataFrame(sample_data[\"data\"])"
   ]
  },
  {
   "cell_type": "code",
   "execution_count": 4,
   "id": "3e6558dd-b9e1-4c5b-9b59-0486e105cd0c",
   "metadata": {},
   "outputs": [],
   "source": [
    "#pd.DataFrame(sample_data[\"data\"]).to_csv(f\"./Api_Scrapping/{mf_name}.csv\",index=False)"
   ]
  },
  {
   "cell_type": "code",
   "execution_count": 23,
   "id": "f4823b1a-bba3-4a49-9838-0ad1058710ef",
   "metadata": {},
   "outputs": [],
   "source": [
    "#for mf_loop in tqdm(all_mf) :\n",
    "   # mf_code = mf_loop[\"schemeCode\"]\n",
    "    #mf_name = mf_loop[\"schemeName\"]\n",
    "   # sample_data = rq.get(f\"https://api.mfapi.in/mf/{mf_code}\").json()\n",
    "    #pd.DataFrame(sample_data[\"data\"]).to_csv(f\"./Api_Scrapping/{mf_code}.csv\" , index = False)"
   ]
  },
  {
   "cell_type": "code",
   "execution_count": 3,
   "id": "ccf898b3-7ed8-4084-87be-296c2cce32a5",
   "metadata": {},
   "outputs": [],
   "source": [
    "# pd.DataFrame(all_mf).to_csv(\"./Api_Scrapping/all_data_codes.csv\" , index = False)"
   ]
  },
  {
   "cell_type": "code",
   "execution_count": null,
   "id": "962fe270-1595-469e-adbf-2d57ef403a2f",
   "metadata": {},
   "outputs": [],
   "source": []
  }
 ],
 "metadata": {
  "kernelspec": {
   "display_name": "Python 3 (ipykernel)",
   "language": "python",
   "name": "python3"
  },
  "language_info": {
   "codemirror_mode": {
    "name": "ipython",
    "version": 3
   },
   "file_extension": ".py",
   "mimetype": "text/x-python",
   "name": "python",
   "nbconvert_exporter": "python",
   "pygments_lexer": "ipython3",
   "version": "3.11.4"
  }
 },
 "nbformat": 4,
 "nbformat_minor": 5
}
