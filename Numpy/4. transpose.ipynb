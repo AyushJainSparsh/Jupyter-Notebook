{
 "cells": [
  {
   "cell_type": "code",
   "execution_count": 1,
   "id": "9283bcc9-9541-421e-af97-c55e231f9399",
   "metadata": {},
   "outputs": [],
   "source": [
    "import numpy as np"
   ]
  },
  {
   "cell_type": "code",
   "execution_count": 2,
   "id": "7407fd7a-8a1d-4455-a907-c43ad72a964d",
   "metadata": {},
   "outputs": [],
   "source": [
    "marks=[[1,2,3],[4,5,6],[7,8,9],[10,11,12]]"
   ]
  },
  {
   "cell_type": "code",
   "execution_count": 3,
   "id": "81c4a5fa-7c89-4199-8d25-1ab0316bf505",
   "metadata": {},
   "outputs": [
    {
     "data": {
      "text/plain": [
       "[[1, 2, 3], [4, 5, 6], [7, 8, 9], [10, 11, 12]]"
      ]
     },
     "execution_count": 3,
     "metadata": {},
     "output_type": "execute_result"
    }
   ],
   "source": [
    "marks"
   ]
  },
  {
   "cell_type": "code",
   "execution_count": 10,
   "id": "2702727e-0f1a-439a-b077-9fc46c61f5bc",
   "metadata": {},
   "outputs": [],
   "source": [
    "marks_trans=[]\n",
    "for i in range(len(marks[0])):\n",
    "    marks_trans.append([])\n",
    "    for j in range(len(marks)):\n",
    "        marks_trans[i].append(marks[j][i])"
   ]
  },
  {
   "cell_type": "code",
   "execution_count": 11,
   "id": "e9412123-9dde-4aae-9846-7fe05722c245",
   "metadata": {},
   "outputs": [
    {
     "data": {
      "text/plain": [
       "[[1, 4, 7, 10], [2, 5, 8, 11], [3, 6, 9, 12]]"
      ]
     },
     "execution_count": 11,
     "metadata": {},
     "output_type": "execute_result"
    }
   ],
   "source": [
    "marks_trans"
   ]
  },
  {
   "cell_type": "code",
   "execution_count": 12,
   "id": "22185c5a-57cf-4e4c-8128-09ef484525a9",
   "metadata": {},
   "outputs": [],
   "source": [
    "marks_arr=np.array(marks)"
   ]
  },
  {
   "cell_type": "code",
   "execution_count": 13,
   "id": "9d309832-0f9b-4bd6-ae2c-03426416cd96",
   "metadata": {},
   "outputs": [
    {
     "data": {
      "text/plain": [
       "array([[ 1,  2,  3],\n",
       "       [ 4,  5,  6],\n",
       "       [ 7,  8,  9],\n",
       "       [10, 11, 12]])"
      ]
     },
     "execution_count": 13,
     "metadata": {},
     "output_type": "execute_result"
    }
   ],
   "source": [
    "marks_arr"
   ]
  },
  {
   "cell_type": "code",
   "execution_count": 14,
   "id": "0194b5d1-9c68-4b16-a6e3-7355973cba4e",
   "metadata": {},
   "outputs": [
    {
     "data": {
      "text/plain": [
       "array([[ 1,  4,  7, 10],\n",
       "       [ 2,  5,  8, 11],\n",
       "       [ 3,  6,  9, 12]])"
      ]
     },
     "execution_count": 14,
     "metadata": {},
     "output_type": "execute_result"
    }
   ],
   "source": [
    "marks_arr.T"
   ]
  },
  {
   "cell_type": "code",
   "execution_count": 17,
   "id": "2a00172c-4b25-4e77-8bd6-aca3005b4b84",
   "metadata": {},
   "outputs": [
    {
     "data": {
      "text/plain": [
       "array([ 6, 15, 24, 33])"
      ]
     },
     "execution_count": 17,
     "metadata": {},
     "output_type": "execute_result"
    }
   ],
   "source": [
    "marks_arr.sum(axis=1)"
   ]
  },
  {
   "cell_type": "code",
   "execution_count": 30,
   "id": "12765a41-aba8-40c1-9d8a-67fcad7e5583",
   "metadata": {},
   "outputs": [],
   "source": [
    "grace_marks=[[1,2,3,4]]"
   ]
  },
  {
   "cell_type": "code",
   "execution_count": 33,
   "id": "7194e0a8-b4c2-45a5-a1ba-e88387845795",
   "metadata": {},
   "outputs": [],
   "source": [
    "grace_arr=np.array(grace_marks).T"
   ]
  },
  {
   "cell_type": "code",
   "execution_count": 34,
   "id": "7a1ea9f0-12b9-437c-b041-c19ef145a62c",
   "metadata": {},
   "outputs": [
    {
     "data": {
      "text/plain": [
       "array([[1],\n",
       "       [2],\n",
       "       [3],\n",
       "       [4]])"
      ]
     },
     "execution_count": 34,
     "metadata": {},
     "output_type": "execute_result"
    }
   ],
   "source": [
    "grace_arr"
   ]
  },
  {
   "cell_type": "code",
   "execution_count": 35,
   "id": "6e6b7c37-8d74-4deb-b676-96a0c191b7c5",
   "metadata": {},
   "outputs": [
    {
     "data": {
      "text/plain": [
       "array([[ 2,  3,  4],\n",
       "       [ 6,  7,  8],\n",
       "       [10, 11, 12],\n",
       "       [14, 15, 16]])"
      ]
     },
     "execution_count": 35,
     "metadata": {},
     "output_type": "execute_result"
    }
   ],
   "source": [
    "marks_arr+grace_arr #broadcasting"
   ]
  },
  {
   "cell_type": "code",
   "execution_count": 48,
   "id": "1275392c-bdfe-4fd3-9b57-c0bdf16d02f5",
   "metadata": {},
   "outputs": [],
   "source": [
    "weight=[[0.2,0.5,0.2]]"
   ]
  },
  {
   "cell_type": "code",
   "execution_count": 49,
   "id": "3e278727-2421-4ba0-b42c-876446c4efc3",
   "metadata": {},
   "outputs": [],
   "source": [
    "weight_arr=np.array(weight).T"
   ]
  },
  {
   "cell_type": "code",
   "execution_count": 50,
   "id": "67aefb76-c871-405c-99fe-2bc8428f4989",
   "metadata": {},
   "outputs": [
    {
     "data": {
      "text/plain": [
       "(3, 1)"
      ]
     },
     "execution_count": 50,
     "metadata": {},
     "output_type": "execute_result"
    }
   ],
   "source": [
    "weight_arr.shape"
   ]
  },
  {
   "cell_type": "code",
   "execution_count": 51,
   "id": "551a2dd9-90dd-4bcd-8e48-7007f76483fc",
   "metadata": {},
   "outputs": [
    {
     "data": {
      "text/plain": [
       "(4, 3)"
      ]
     },
     "execution_count": 51,
     "metadata": {},
     "output_type": "execute_result"
    }
   ],
   "source": [
    "marks_arr.shape"
   ]
  },
  {
   "cell_type": "code",
   "execution_count": 53,
   "id": "f6e73a69-1413-4116-b78b-5d80f9bc0c5b",
   "metadata": {},
   "outputs": [
    {
     "data": {
      "text/plain": [
       "array([[1.8],\n",
       "       [4.5],\n",
       "       [7.2],\n",
       "       [9.9]])"
      ]
     },
     "execution_count": 53,
     "metadata": {},
     "output_type": "execute_result"
    }
   ],
   "source": [
    "marks_arr @ weight_arr # matrix multiplication"
   ]
  },
  {
   "cell_type": "code",
   "execution_count": null,
   "id": "ea1dadda-7e99-49f8-9adc-86587f03c183",
   "metadata": {},
   "outputs": [],
   "source": []
  }
 ],
 "metadata": {
  "kernelspec": {
   "display_name": "Python 3 (ipykernel)",
   "language": "python",
   "name": "python3"
  },
  "language_info": {
   "codemirror_mode": {
    "name": "ipython",
    "version": 3
   },
   "file_extension": ".py",
   "mimetype": "text/x-python",
   "name": "python",
   "nbconvert_exporter": "python",
   "pygments_lexer": "ipython3",
   "version": "3.11.4"
  }
 },
 "nbformat": 4,
 "nbformat_minor": 5
}
