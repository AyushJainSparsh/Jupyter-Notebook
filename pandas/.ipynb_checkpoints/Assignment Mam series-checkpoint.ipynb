{
 "cells": [
  {
   "cell_type": "markdown",
   "id": "32857417-cd21-4ee5-9b20-d306f90c5d42",
   "metadata": {},
   "source": []
  },
  {
   "cell_type": "code",
   "execution_count": 1,
   "id": "1823d4b5-1a36-438d-992c-bddc8e560a88",
   "metadata": {},
   "outputs": [],
   "source": [
    "import pandas as pd"
   ]
  },
  {
   "cell_type": "code",
   "execution_count": 2,
   "id": "f35561f2-51f3-48f7-8d46-2b66e1f6cd14",
   "metadata": {},
   "outputs": [],
   "source": [
    "list = [5,-5,6,8,9,-15]"
   ]
  },
  {
   "cell_type": "code",
   "execution_count": 3,
   "id": "f035abfe-21ba-4515-be2f-983d005fa197",
   "metadata": {},
   "outputs": [
    {
     "data": {
      "text/plain": [
       "[5, -5, 6, 8, 9, -15]"
      ]
     },
     "execution_count": 3,
     "metadata": {},
     "output_type": "execute_result"
    }
   ],
   "source": [
    "list"
   ]
  },
  {
   "cell_type": "code",
   "execution_count": 5,
   "id": "99927ed8-9fa9-4b9f-a77f-fa12b2b1e5fe",
   "metadata": {},
   "outputs": [],
   "source": [
    "ser = pd.Series(list)"
   ]
  },
  {
   "cell_type": "code",
   "execution_count": 6,
   "id": "b5d0c709-e06e-4676-96e9-a758d3a38c54",
   "metadata": {},
   "outputs": [
    {
     "data": {
      "text/plain": [
       "0     5\n",
       "1    -5\n",
       "2     6\n",
       "3     8\n",
       "4     9\n",
       "5   -15\n",
       "dtype: int64"
      ]
     },
     "execution_count": 6,
     "metadata": {},
     "output_type": "execute_result"
    }
   ],
   "source": [
    "ser"
   ]
  },
  {
   "cell_type": "code",
   "execution_count": 13,
   "id": "78f02d12-ed3d-4be3-b8a9-e9df5b9dc46f",
   "metadata": {},
   "outputs": [],
   "source": [
    "ser = pd.Series([5,7,8,-2,3])"
   ]
  },
  {
   "cell_type": "code",
   "execution_count": 14,
   "id": "0633b631-6b32-43d8-81b6-59b3d1e193ad",
   "metadata": {},
   "outputs": [
    {
     "data": {
      "text/plain": [
       "0    5\n",
       "1    7\n",
       "2    8\n",
       "3   -2\n",
       "4    3\n",
       "dtype: int64"
      ]
     },
     "execution_count": 14,
     "metadata": {},
     "output_type": "execute_result"
    }
   ],
   "source": [
    "ser"
   ]
  },
  {
   "cell_type": "code",
   "execution_count": 11,
   "id": "8e24df63-1db7-4cd3-9edb-7a9e0f87b079",
   "metadata": {},
   "outputs": [],
   "source": [
    "ser = pd.Series()"
   ]
  },
  {
   "cell_type": "code",
   "execution_count": 12,
   "id": "85004c81-96ec-4b74-bfa1-14cf6eaff0f7",
   "metadata": {},
   "outputs": [
    {
     "data": {
      "text/plain": [
       "Series([], dtype: object)"
      ]
     },
     "execution_count": 12,
     "metadata": {},
     "output_type": "execute_result"
    }
   ],
   "source": [
    "ser"
   ]
  },
  {
   "cell_type": "code",
   "execution_count": 20,
   "id": "02a0521d-9d05-4ba8-a4b7-a6be856aadf6",
   "metadata": {},
   "outputs": [],
   "source": [
    "ser = pd.Series([5,8,-1,-5,3] , index=['a','b','c','d','e'])"
   ]
  },
  {
   "cell_type": "code",
   "execution_count": 21,
   "id": "8097e27e-9d03-46a6-9a4d-4b0f2cbc63ac",
   "metadata": {},
   "outputs": [
    {
     "data": {
      "text/plain": [
       "a    5\n",
       "b    8\n",
       "c   -1\n",
       "d   -5\n",
       "e    3\n",
       "dtype: int64"
      ]
     },
     "execution_count": 21,
     "metadata": {},
     "output_type": "execute_result"
    }
   ],
   "source": [
    "ser"
   ]
  },
  {
   "cell_type": "code",
   "execution_count": 22,
   "id": "30e21621-6a56-4253-9587-ddad15d7e11c",
   "metadata": {},
   "outputs": [],
   "source": [
    "ser = pd.Series([5,8,-1,-5,3] , dtype = float)"
   ]
  },
  {
   "cell_type": "code",
   "execution_count": 23,
   "id": "5b3072a4-d98d-41ee-8059-54a483ec1c54",
   "metadata": {},
   "outputs": [
    {
     "data": {
      "text/plain": [
       "0    5.0\n",
       "1    8.0\n",
       "2   -1.0\n",
       "3   -5.0\n",
       "4    3.0\n",
       "dtype: float64"
      ]
     },
     "execution_count": 23,
     "metadata": {},
     "output_type": "execute_result"
    }
   ],
   "source": [
    "ser"
   ]
  },
  {
   "cell_type": "code",
   "execution_count": 24,
   "id": "65a1187a-7589-42d7-ad7e-d1078841e105",
   "metadata": {},
   "outputs": [],
   "source": [
    "ser = pd.Series([5,8,-1,-5,3] , name=\"Number\")"
   ]
  },
  {
   "cell_type": "code",
   "execution_count": 25,
   "id": "12f7cb09-195d-4293-bc0d-514eb9e4245d",
   "metadata": {},
   "outputs": [
    {
     "data": {
      "text/plain": [
       "0    5\n",
       "1    8\n",
       "2   -1\n",
       "3   -5\n",
       "4    3\n",
       "Name: Number, dtype: int64"
      ]
     },
     "execution_count": 25,
     "metadata": {},
     "output_type": "execute_result"
    }
   ],
   "source": [
    "ser"
   ]
  },
  {
   "cell_type": "code",
   "execution_count": 26,
   "id": "21607b1c-a4f6-4f75-a85c-c4ca61aa7938",
   "metadata": {},
   "outputs": [],
   "source": [
    "ser = pd.Series(5)"
   ]
  },
  {
   "cell_type": "code",
   "execution_count": 28,
   "id": "baad66e1-80c0-4994-b518-192676d3afef",
   "metadata": {},
   "outputs": [
    {
     "data": {
      "text/plain": [
       "0    5\n",
       "dtype: int64"
      ]
     },
     "execution_count": 28,
     "metadata": {},
     "output_type": "execute_result"
    }
   ],
   "source": [
    "ser"
   ]
  },
  {
   "cell_type": "code",
   "execution_count": 29,
   "id": "232f06bf-c3d9-462c-a783-9e2c639f2e28",
   "metadata": {},
   "outputs": [],
   "source": [
    "ser = pd.Series({'a' : 1 , 'b' : 2})"
   ]
  },
  {
   "cell_type": "code",
   "execution_count": 30,
   "id": "2defa426-d44b-4a69-a30f-0128943709ee",
   "metadata": {},
   "outputs": [
    {
     "data": {
      "text/plain": [
       "a    1\n",
       "b    2\n",
       "dtype: int64"
      ]
     },
     "execution_count": 30,
     "metadata": {},
     "output_type": "execute_result"
    }
   ],
   "source": [
    "ser"
   ]
  },
  {
   "cell_type": "markdown",
   "id": "935d70f9-a622-4377-819e-d633e200d027",
   "metadata": {},
   "source": [
    "Numpy"
   ]
  },
  {
   "cell_type": "code",
   "execution_count": 31,
   "id": "33083068-f591-417b-8f95-29e980a0904f",
   "metadata": {},
   "outputs": [],
   "source": [
    "ser = pd.Series([1,2,3,4,5,6])"
   ]
  },
  {
   "cell_type": "code",
   "execution_count": 32,
   "id": "7ccd2408-20c6-4bcc-a7d7-d801bdae6cee",
   "metadata": {},
   "outputs": [
    {
     "data": {
      "text/plain": [
       "0    1\n",
       "1    2\n",
       "2    3\n",
       "3    4\n",
       "4    5\n",
       "5    6\n",
       "dtype: int64"
      ]
     },
     "execution_count": 32,
     "metadata": {},
     "output_type": "execute_result"
    }
   ],
   "source": [
    "ser"
   ]
  },
  {
   "cell_type": "raw",
   "id": "428df5ec-d100-4d06-8ee5-55e2d6caff89",
   "metadata": {},
   "source": [
    "Accessing value by index"
   ]
  },
  {
   "cell_type": "code",
   "execution_count": 33,
   "id": "bebf4c80-ba8c-4b28-9280-58e38f5a6c45",
   "metadata": {},
   "outputs": [
    {
     "data": {
      "text/plain": [
       "3"
      ]
     },
     "execution_count": 33,
     "metadata": {},
     "output_type": "execute_result"
    }
   ],
   "source": [
    "ser[2]"
   ]
  },
  {
   "cell_type": "raw",
   "id": "7bdccb91-52f2-41ed-9ddf-2429b113ba88",
   "metadata": {},
   "source": [
    "Slicing operation"
   ]
  },
  {
   "cell_type": "code",
   "execution_count": 35,
   "id": "38133ab1-ce73-45df-b8fe-efda01d437aa",
   "metadata": {},
   "outputs": [
    {
     "data": {
      "text/plain": [
       "0    1\n",
       "1    2\n",
       "2    3\n",
       "dtype: int64"
      ]
     },
     "execution_count": 35,
     "metadata": {},
     "output_type": "execute_result"
    }
   ],
   "source": [
    "ser[0:3]"
   ]
  },
  {
   "cell_type": "raw",
   "id": "21e77aa1-9003-4d5a-a69f-dd912e8c5611",
   "metadata": {},
   "source": [
    "Maximum"
   ]
  },
  {
   "cell_type": "code",
   "execution_count": 52,
   "id": "4cbe8658-90e0-420a-93ad-99a74828f0e8",
   "metadata": {},
   "outputs": [
    {
     "data": {
      "text/plain": [
       "6"
      ]
     },
     "execution_count": 52,
     "metadata": {},
     "output_type": "execute_result"
    }
   ],
   "source": [
    "max(ser)"
   ]
  },
  {
   "cell_type": "raw",
   "id": "e70c89f2-0bea-495e-93b2-93e46c77163b",
   "metadata": {},
   "source": [
    "Minimum"
   ]
  },
  {
   "cell_type": "code",
   "execution_count": 37,
   "id": "884a72ee-23fe-48b5-971e-e01f3b2dc26b",
   "metadata": {},
   "outputs": [
    {
     "data": {
      "text/plain": [
       "1"
      ]
     },
     "execution_count": 37,
     "metadata": {},
     "output_type": "execute_result"
    }
   ],
   "source": [
    "min(ser)"
   ]
  },
  {
   "cell_type": "raw",
   "id": "a324f9eb-ff21-4df0-b818-195f39c5b1b6",
   "metadata": {},
   "source": [
    "conditional indexing"
   ]
  },
  {
   "cell_type": "code",
   "execution_count": 53,
   "id": "7e404380-099d-485c-838e-a17bb17b4d11",
   "metadata": {},
   "outputs": [
    {
     "data": {
      "text/plain": [
       "4    5\n",
       "5    6\n",
       "dtype: int64"
      ]
     },
     "execution_count": 53,
     "metadata": {},
     "output_type": "execute_result"
    }
   ],
   "source": [
    "ser[ser >4]"
   ]
  },
  {
   "cell_type": "raw",
   "id": "b0d7c5fd-4e2e-4327-afc1-5327d196494a",
   "metadata": {},
   "source": [
    "Addition"
   ]
  },
  {
   "cell_type": "code",
   "execution_count": 49,
   "id": "bf81df55-4db9-447d-a09f-d108ec03e398",
   "metadata": {},
   "outputs": [],
   "source": [
    "s1=pd.Series([7,8,9,4,5,6])"
   ]
  },
  {
   "cell_type": "code",
   "execution_count": 46,
   "id": "4d98c1b4-dad4-4da6-8942-d201a431dec6",
   "metadata": {},
   "outputs": [
    {
     "data": {
      "text/plain": [
       "0     8\n",
       "1    10\n",
       "2    12\n",
       "3     8\n",
       "4    10\n",
       "5    12\n",
       "dtype: int64"
      ]
     },
     "execution_count": 46,
     "metadata": {},
     "output_type": "execute_result"
    }
   ],
   "source": [
    "ser+s1"
   ]
  },
  {
   "cell_type": "code",
   "execution_count": 50,
   "id": "3bea9d25-3a1c-4596-aeda-1143e1216858",
   "metadata": {},
   "outputs": [],
   "source": [
    "s1=pd.Series([7,8,9,4])"
   ]
  },
  {
   "cell_type": "code",
   "execution_count": 48,
   "id": "d4f5fb39-33b1-4867-8d80-a33b171996b2",
   "metadata": {},
   "outputs": [
    {
     "data": {
      "text/plain": [
       "0     8.0\n",
       "1    10.0\n",
       "2    12.0\n",
       "3     8.0\n",
       "4     NaN\n",
       "5     NaN\n",
       "dtype: float64"
      ]
     },
     "execution_count": 48,
     "metadata": {},
     "output_type": "execute_result"
    }
   ],
   "source": [
    "ser+s1"
   ]
  },
  {
   "cell_type": "code",
   "execution_count": null,
   "id": "0aafc43b-67f7-4391-bc6b-149c3478734a",
   "metadata": {},
   "outputs": [],
   "source": []
  }
 ],
 "metadata": {
  "kernelspec": {
   "display_name": "Python 3 (ipykernel)",
   "language": "python",
   "name": "python3"
  },
  "language_info": {
   "codemirror_mode": {
    "name": "ipython",
    "version": 3
   },
   "file_extension": ".py",
   "mimetype": "text/x-python",
   "name": "python",
   "nbconvert_exporter": "python",
   "pygments_lexer": "ipython3",
   "version": "3.11.4"
  }
 },
 "nbformat": 4,
 "nbformat_minor": 5
}
