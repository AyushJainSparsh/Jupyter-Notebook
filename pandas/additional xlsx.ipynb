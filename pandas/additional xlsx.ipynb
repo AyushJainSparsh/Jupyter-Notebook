{
 "cells": [
  {
   "cell_type": "code",
   "execution_count": 1,
   "id": "e1155595-e769-4dad-bc61-264b2627569d",
   "metadata": {},
   "outputs": [
    {
     "name": "stdout",
     "output_type": "stream",
     "text": [
      "Collecting xlrd\n",
      "  Downloading xlrd-2.0.1-py2.py3-none-any.whl.metadata (3.4 kB)\n",
      "Downloading xlrd-2.0.1-py2.py3-none-any.whl (96 kB)\n",
      "   ---------------------------------------- 0.0/96.5 kB ? eta -:--:--\n",
      "   ------------ --------------------------- 30.7/96.5 kB 1.3 MB/s eta 0:00:01\n",
      "   ---------------- ----------------------- 41.0/96.5 kB 393.8 kB/s eta 0:00:01\n",
      "   ------------------------- -------------- 61.4/96.5 kB 465.5 kB/s eta 0:00:01\n",
      "   ----------------------------- ---------- 71.7/96.5 kB 435.7 kB/s eta 0:00:01\n",
      "   ---------------------------------------- 96.5/96.5 kB 394.0 kB/s eta 0:00:00\n",
      "Installing collected packages: xlrd\n",
      "Successfully installed xlrd-2.0.1\n"
     ]
    }
   ],
   "source": [
    "!pip install xlrd"
   ]
  },
  {
   "cell_type": "code",
   "execution_count": 5,
   "id": "85864d52-08bc-4816-9614-18f41dd8a009",
   "metadata": {},
   "outputs": [
    {
     "name": "stdout",
     "output_type": "stream",
     "text": [
      "Collecting openpyxl\n",
      "  Downloading openpyxl-3.1.2-py2.py3-none-any.whl.metadata (2.5 kB)\n",
      "Collecting et-xmlfile (from openpyxl)\n",
      "  Downloading et_xmlfile-1.1.0-py3-none-any.whl.metadata (1.8 kB)\n",
      "Downloading openpyxl-3.1.2-py2.py3-none-any.whl (249 kB)\n",
      "   ---------------------------------------- 0.0/250.0 kB ? eta -:--:--\n",
      "   ---- ----------------------------------- 30.7/250.0 kB 1.3 MB/s eta 0:00:01\n",
      "   ------ -------------------------------- 41.0/250.0 kB 393.8 kB/s eta 0:00:01\n",
      "   -------------- ------------------------ 92.2/250.0 kB 655.4 kB/s eta 0:00:01\n",
      "   ----------------- -------------------- 112.6/250.0 kB 726.2 kB/s eta 0:00:01\n",
      "   --------------------- ---------------- 143.4/250.0 kB 774.0 kB/s eta 0:00:01\n",
      "   -------------------------- ----------- 174.1/250.0 kB 748.1 kB/s eta 0:00:01\n",
      "   ------------------------------- ------ 204.8/250.0 kB 731.4 kB/s eta 0:00:01\n",
      "   ------------------------------- ------ 204.8/250.0 kB 731.4 kB/s eta 0:00:01\n",
      "   -------------------------------------- 250.0/250.0 kB 730.9 kB/s eta 0:00:00\n",
      "Downloading et_xmlfile-1.1.0-py3-none-any.whl (4.7 kB)\n",
      "Installing collected packages: et-xmlfile, openpyxl\n",
      "Successfully installed et-xmlfile-1.1.0 openpyxl-3.1.2\n"
     ]
    }
   ],
   "source": [
    "!pip install openpyxl"
   ]
  },
  {
   "cell_type": "code",
   "execution_count": 2,
   "id": "f7f4f673-f2d2-4e98-bd6d-bc4e6cf2049f",
   "metadata": {},
   "outputs": [],
   "source": [
    "import pandas as pd"
   ]
  },
  {
   "cell_type": "code",
   "execution_count": 6,
   "id": "cc64ac53-25bd-4d7b-9f99-9a28cdf02a2a",
   "metadata": {},
   "outputs": [],
   "source": [
    "excel = pd.read_excel(\"countries-aggregated.xlsx\")"
   ]
  },
  {
   "cell_type": "code",
   "execution_count": 7,
   "id": "a56a9a05-9397-4f15-9189-e50e40e781d2",
   "metadata": {},
   "outputs": [
    {
     "data": {
      "text/html": [
       "<div>\n",
       "<style scoped>\n",
       "    .dataframe tbody tr th:only-of-type {\n",
       "        vertical-align: middle;\n",
       "    }\n",
       "\n",
       "    .dataframe tbody tr th {\n",
       "        vertical-align: top;\n",
       "    }\n",
       "\n",
       "    .dataframe thead th {\n",
       "        text-align: right;\n",
       "    }\n",
       "</style>\n",
       "<table border=\"1\" class=\"dataframe\">\n",
       "  <thead>\n",
       "    <tr style=\"text-align: right;\">\n",
       "      <th></th>\n",
       "      <th>Date</th>\n",
       "      <th>Country</th>\n",
       "      <th>Confirmed</th>\n",
       "      <th>Recovered</th>\n",
       "      <th>Deaths</th>\n",
       "    </tr>\n",
       "  </thead>\n",
       "  <tbody>\n",
       "    <tr>\n",
       "      <th>0</th>\n",
       "      <td>2020-01-30</td>\n",
       "      <td>India</td>\n",
       "      <td>1</td>\n",
       "      <td>0</td>\n",
       "      <td>0</td>\n",
       "    </tr>\n",
       "    <tr>\n",
       "      <th>1</th>\n",
       "      <td>2020-01-31</td>\n",
       "      <td>India</td>\n",
       "      <td>1</td>\n",
       "      <td>0</td>\n",
       "      <td>0</td>\n",
       "    </tr>\n",
       "    <tr>\n",
       "      <th>2</th>\n",
       "      <td>2020-02-01</td>\n",
       "      <td>India</td>\n",
       "      <td>1</td>\n",
       "      <td>0</td>\n",
       "      <td>0</td>\n",
       "    </tr>\n",
       "    <tr>\n",
       "      <th>3</th>\n",
       "      <td>2020-02-02</td>\n",
       "      <td>India</td>\n",
       "      <td>2</td>\n",
       "      <td>0</td>\n",
       "      <td>0</td>\n",
       "    </tr>\n",
       "    <tr>\n",
       "      <th>4</th>\n",
       "      <td>2020-02-03</td>\n",
       "      <td>India</td>\n",
       "      <td>3</td>\n",
       "      <td>0</td>\n",
       "      <td>0</td>\n",
       "    </tr>\n",
       "    <tr>\n",
       "      <th>...</th>\n",
       "      <td>...</td>\n",
       "      <td>...</td>\n",
       "      <td>...</td>\n",
       "      <td>...</td>\n",
       "      <td>...</td>\n",
       "    </tr>\n",
       "    <tr>\n",
       "      <th>263</th>\n",
       "      <td>2020-10-19</td>\n",
       "      <td>India</td>\n",
       "      <td>7597063</td>\n",
       "      <td>6733328</td>\n",
       "      <td>115197</td>\n",
       "    </tr>\n",
       "    <tr>\n",
       "      <th>264</th>\n",
       "      <td>2020-10-20</td>\n",
       "      <td>India</td>\n",
       "      <td>7651107</td>\n",
       "      <td>6795103</td>\n",
       "      <td>115914</td>\n",
       "    </tr>\n",
       "    <tr>\n",
       "      <th>265</th>\n",
       "      <td>2020-10-21</td>\n",
       "      <td>India</td>\n",
       "      <td>7706946</td>\n",
       "      <td>6874518</td>\n",
       "      <td>116616</td>\n",
       "    </tr>\n",
       "    <tr>\n",
       "      <th>266</th>\n",
       "      <td>2020-10-22</td>\n",
       "      <td>India</td>\n",
       "      <td>7761312</td>\n",
       "      <td>6948497</td>\n",
       "      <td>117306</td>\n",
       "    </tr>\n",
       "    <tr>\n",
       "      <th>267</th>\n",
       "      <td>2020-10-23</td>\n",
       "      <td>India</td>\n",
       "      <td>7814682</td>\n",
       "      <td>7016046</td>\n",
       "      <td>117956</td>\n",
       "    </tr>\n",
       "  </tbody>\n",
       "</table>\n",
       "<p>268 rows × 5 columns</p>\n",
       "</div>"
      ],
      "text/plain": [
       "          Date Country  Confirmed  Recovered  Deaths\n",
       "0   2020-01-30   India          1          0       0\n",
       "1   2020-01-31   India          1          0       0\n",
       "2   2020-02-01   India          1          0       0\n",
       "3   2020-02-02   India          2          0       0\n",
       "4   2020-02-03   India          3          0       0\n",
       "..         ...     ...        ...        ...     ...\n",
       "263 2020-10-19   India    7597063    6733328  115197\n",
       "264 2020-10-20   India    7651107    6795103  115914\n",
       "265 2020-10-21   India    7706946    6874518  116616\n",
       "266 2020-10-22   India    7761312    6948497  117306\n",
       "267 2020-10-23   India    7814682    7016046  117956\n",
       "\n",
       "[268 rows x 5 columns]"
      ]
     },
     "execution_count": 7,
     "metadata": {},
     "output_type": "execute_result"
    }
   ],
   "source": [
    "excel"
   ]
  },
  {
   "cell_type": "code",
   "execution_count": 9,
   "id": "5afa57bf-9d49-4dd3-9d11-d578394d0ae0",
   "metadata": {},
   "outputs": [],
   "source": [
    "excel.to_excel(\"new.xlsx\" , sheet_name=\"countries-aggregated.xlsx\")"
   ]
  },
  {
   "cell_type": "code",
   "execution_count": null,
   "id": "3f745824-3945-489e-a8b3-1467f2114214",
   "metadata": {},
   "outputs": [],
   "source": []
  }
 ],
 "metadata": {
  "kernelspec": {
   "display_name": "Python 3 (ipykernel)",
   "language": "python",
   "name": "python3"
  },
  "language_info": {
   "codemirror_mode": {
    "name": "ipython",
    "version": 3
   },
   "file_extension": ".py",
   "mimetype": "text/x-python",
   "name": "python",
   "nbconvert_exporter": "python",
   "pygments_lexer": "ipython3",
   "version": "3.11.4"
  }
 },
 "nbformat": 4,
 "nbformat_minor": 5
}
