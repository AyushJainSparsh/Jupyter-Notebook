{
 "cells": [
  {
   "cell_type": "code",
   "execution_count": 1,
   "id": "c6f87178-16d3-4bb0-b3f2-6364ac2386fc",
   "metadata": {},
   "outputs": [],
   "source": [
    "import requests as rq"
   ]
  },
  {
   "cell_type": "code",
   "execution_count": 2,
   "id": "e9a2e0fb-f94a-4f72-82db-66ab82a24b93",
   "metadata": {},
   "outputs": [],
   "source": [
    "import pandas as pd"
   ]
  },
  {
   "cell_type": "code",
   "execution_count": 3,
   "id": "c97c1f0e-cd9c-425b-9af7-7e1acd6d6177",
   "metadata": {},
   "outputs": [],
   "source": [
    "import cv2"
   ]
  },
  {
   "cell_type": "code",
   "execution_count": 4,
   "id": "4bb1c12e-e06a-4192-8e81-f4b674e54a81",
   "metadata": {},
   "outputs": [],
   "source": [
    "from matplotlib import pyplot as plt"
   ]
  },
  {
   "cell_type": "code",
   "execution_count": 5,
   "id": "08f10cce-cd35-4e9d-877e-68fffc11586e",
   "metadata": {},
   "outputs": [],
   "source": [
    "req = rq.get(\"https://randomuser.me/api\")"
   ]
  },
  {
   "cell_type": "code",
   "execution_count": 6,
   "id": "1cf68732-2e1b-4fc3-b7e7-60ebbf56b062",
   "metadata": {},
   "outputs": [
    {
     "data": {
      "text/plain": [
       "<Response [200]>"
      ]
     },
     "execution_count": 6,
     "metadata": {},
     "output_type": "execute_result"
    }
   ],
   "source": [
    "req"
   ]
  },
  {
   "cell_type": "code",
   "execution_count": 7,
   "id": "ee67e10a-e455-4d38-a742-ee1ca7d09139",
   "metadata": {},
   "outputs": [],
   "source": [
    "user = req.json()"
   ]
  },
  {
   "cell_type": "code",
   "execution_count": 8,
   "id": "36b47b6d-4f0d-453e-ade4-90ed66ddd34a",
   "metadata": {},
   "outputs": [
    {
     "data": {
      "text/plain": [
       "dict"
      ]
     },
     "execution_count": 8,
     "metadata": {},
     "output_type": "execute_result"
    }
   ],
   "source": [
    "type(user)"
   ]
  },
  {
   "cell_type": "code",
   "execution_count": 9,
   "id": "ed80a042-2a2c-4211-b48d-8f5a1293a8dc",
   "metadata": {},
   "outputs": [
    {
     "data": {
      "text/plain": [
       "2"
      ]
     },
     "execution_count": 9,
     "metadata": {},
     "output_type": "execute_result"
    }
   ],
   "source": [
    "len(user)"
   ]
  },
  {
   "cell_type": "code",
   "execution_count": 10,
   "id": "4c068273-dd0c-4fc5-bb92-c5f742534f68",
   "metadata": {},
   "outputs": [
    {
     "data": {
      "text/plain": [
       "dict_keys(['results', 'info'])"
      ]
     },
     "execution_count": 10,
     "metadata": {},
     "output_type": "execute_result"
    }
   ],
   "source": [
    "user.keys()"
   ]
  },
  {
   "cell_type": "code",
   "execution_count": 11,
   "id": "67812292-b3d5-470a-b197-b01fa27fb504",
   "metadata": {},
   "outputs": [],
   "source": [
    "u_list = user[\"results\"]"
   ]
  },
  {
   "cell_type": "code",
   "execution_count": 12,
   "id": "102d5fde-5101-4543-a8b5-a2c9a137a262",
   "metadata": {},
   "outputs": [],
   "source": [
    "#pd.DataFrame(u_list)"
   ]
  },
  {
   "cell_type": "code",
   "execution_count": 13,
   "id": "8ff9d101-bc16-4ec6-bf71-b73b6a83c436",
   "metadata": {},
   "outputs": [],
   "source": [
    "u_list[0][\"name\"] = u_list[0][\"name\"][\"title\"] +\" \"+ u_list[0][\"name\"][\"first\"] +\" \"+ u_list[0][\"name\"][\"last\"]"
   ]
  },
  {
   "cell_type": "code",
   "execution_count": 14,
   "id": "ad911ac3-77ee-4baf-af48-be82e1101ea7",
   "metadata": {},
   "outputs": [],
   "source": [
    "u_list[0][\"location\"] = str(u_list[0][\"location\"][\"street\"][\"number\"]) +\" \"+ u_list[0][\"location\"][\"street\"][\"name\"]"
   ]
  },
  {
   "cell_type": "code",
   "execution_count": 15,
   "id": "83034255-fa63-4464-a251-fa2bdfbe6ea8",
   "metadata": {},
   "outputs": [],
   "source": [
    "u_list[0][\"id\"] = u_list[0][\"id\"][\"name\"] +\" \"+ u_list[0][\"id\"][\"value\"]"
   ]
  },
  {
   "cell_type": "code",
   "execution_count": null,
   "id": "91304236-b17d-4df5-aceb-f30a81992033",
   "metadata": {},
   "outputs": [],
   "source": [
    "image = rq.get(u_list[0][\"picture\"][\"large\"])"
   ]
  },
  {
   "cell_type": "code",
   "execution_count": null,
   "id": "9b372066-2f3d-4e75-8a2c-62cc425bb633",
   "metadata": {},
   "outputs": [],
   "source": [
    "with open(\"image.jpg\", \"wb\") as f:\n",
    "    f.write(image.content)"
   ]
  },
  {
   "cell_type": "code",
   "execution_count": null,
   "id": "f35530e4-333c-4a4a-9f58-91eb97166842",
   "metadata": {},
   "outputs": [],
   "source": [
    "image_ = cv2.imread(\"image.jpg\")"
   ]
  },
  {
   "cell_type": "code",
   "execution_count": null,
   "id": "42ebb4b1-98fe-4f58-8642-8a2b40e1ee4a",
   "metadata": {},
   "outputs": [],
   "source": [
    "image_rgb = cv2.cvtColor( image_ , cv2.COLOR_BGR2RGB )"
   ]
  },
  {
   "cell_type": "code",
   "execution_count": null,
   "id": "b774016e-686a-47bb-9ad6-faec19833da3",
   "metadata": {},
   "outputs": [],
   "source": [
    "del u_list[0][\"picture\"]\n",
    "del u_list[0][\"login\"]\n",
    "del u_list[0][\"dob\"]\n",
    "del u_list[0][\"registered\"]"
   ]
  },
  {
   "cell_type": "code",
   "execution_count": null,
   "id": "1e2feea5-cb17-4093-934e-5b78bde8d571",
   "metadata": {},
   "outputs": [],
   "source": [
    "u_list[0]"
   ]
  },
  {
   "cell_type": "code",
   "execution_count": null,
   "id": "fc4caafe-1b7b-47e7-b6db-d565a97ad57e",
   "metadata": {},
   "outputs": [],
   "source": [
    "plt.imshow(image_rgb)"
   ]
  },
  {
   "cell_type": "code",
   "execution_count": null,
   "id": "d3c4e700-da63-4c0e-885c-8f8e87d34a8a",
   "metadata": {},
   "outputs": [],
   "source": []
  }
 ],
 "metadata": {
  "kernelspec": {
   "display_name": "Python 3 (ipykernel)",
   "language": "python",
   "name": "python3"
  },
  "language_info": {
   "codemirror_mode": {
    "name": "ipython",
    "version": 3
   },
   "file_extension": ".py",
   "mimetype": "text/x-python",
   "name": "python",
   "nbconvert_exporter": "python",
   "pygments_lexer": "ipython3",
   "version": "3.11.4"
  }
 },
 "nbformat": 4,
 "nbformat_minor": 5
}
