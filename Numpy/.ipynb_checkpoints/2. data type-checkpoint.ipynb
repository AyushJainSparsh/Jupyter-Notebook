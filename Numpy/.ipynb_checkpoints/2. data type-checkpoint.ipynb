{
 "cells": [
  {
   "cell_type": "code",
   "execution_count": 1,
   "id": "edb519ff-7f3f-47df-aa05-71fc944c5075",
   "metadata": {},
   "outputs": [],
   "source": [
    "import numpy as np"
   ]
  },
  {
   "cell_type": "code",
   "execution_count": 2,
   "id": "0d953f6f-e5f1-4f02-a881-6d22484cdba5",
   "metadata": {},
   "outputs": [],
   "source": [
    "list=[5,56,85,6]"
   ]
  },
  {
   "cell_type": "code",
   "execution_count": 3,
   "id": "d3511016-81e2-4b1d-844a-fc05b33307f5",
   "metadata": {},
   "outputs": [],
   "source": [
    "arr=np.array(list)"
   ]
  },
  {
   "cell_type": "code",
   "execution_count": 6,
   "id": "4815f27b-1810-4234-8d63-71cfdf127917",
   "metadata": {},
   "outputs": [
    {
     "data": {
      "text/plain": [
       "dtype('int32')"
      ]
     },
     "execution_count": 6,
     "metadata": {},
     "output_type": "execute_result"
    }
   ],
   "source": [
    "arr.dtype"
   ]
  },
  {
   "cell_type": "code",
   "execution_count": 7,
   "id": "02b886c1-4eb1-407f-ac0d-e312875a9e7d",
   "metadata": {},
   "outputs": [],
   "source": [
    "arr=np.array(list,dtype=np.int64)"
   ]
  },
  {
   "cell_type": "code",
   "execution_count": 8,
   "id": "3a849580-fedb-4267-9b41-567c20d53f18",
   "metadata": {},
   "outputs": [
    {
     "data": {
      "text/plain": [
       "dtype('int64')"
      ]
     },
     "execution_count": 8,
     "metadata": {},
     "output_type": "execute_result"
    }
   ],
   "source": [
    "arr.dtype"
   ]
  },
  {
   "cell_type": "code",
   "execution_count": 13,
   "id": "5bc97a6e-aca0-479c-99e2-34540e101161",
   "metadata": {},
   "outputs": [],
   "source": [
    "list2=[5,8.08,1.1,9.3,9.15]"
   ]
  },
  {
   "cell_type": "code",
   "execution_count": 15,
   "id": "7a8eed79-d5d4-491a-a2cf-a5c6a7c31db3",
   "metadata": {},
   "outputs": [],
   "source": [
    "arr2=np.array(list2)"
   ]
  },
  {
   "cell_type": "code",
   "execution_count": 12,
   "id": "da18cd29-ec23-4786-b014-7d36de9b9155",
   "metadata": {},
   "outputs": [
    {
     "data": {
      "text/plain": [
       "dtype('float64')"
      ]
     },
     "execution_count": 12,
     "metadata": {},
     "output_type": "execute_result"
    }
   ],
   "source": [
    "arr2.dtype"
   ]
  },
  {
   "cell_type": "code",
   "execution_count": 16,
   "id": "64a6bcbe-2342-4847-81c2-d8d532fd945b",
   "metadata": {},
   "outputs": [],
   "source": [
    "list3=[4,4.5,\"55\"]"
   ]
  },
  {
   "cell_type": "code",
   "execution_count": 17,
   "id": "c2bf146f-fe63-46f8-bbde-6edc4fa77013",
   "metadata": {},
   "outputs": [],
   "source": [
    "arr3=np.array(list3)"
   ]
  },
  {
   "cell_type": "code",
   "execution_count": 18,
   "id": "b84a0872-35c6-429f-9872-633b982b35e7",
   "metadata": {},
   "outputs": [
    {
     "data": {
      "text/plain": [
       "array(['4', '4.5', '55'], dtype='<U32')"
      ]
     },
     "execution_count": 18,
     "metadata": {},
     "output_type": "execute_result"
    }
   ],
   "source": [
    "arr3"
   ]
  },
  {
   "cell_type": "code",
   "execution_count": 19,
   "id": "77dd38ab-e6a4-4a7a-b7f5-83f8f3e69025",
   "metadata": {},
   "outputs": [
    {
     "data": {
      "text/plain": [
       "dtype('<U32')"
      ]
     },
     "execution_count": 19,
     "metadata": {},
     "output_type": "execute_result"
    }
   ],
   "source": [
    "arr3.dtype"
   ]
  },
  {
   "cell_type": "code",
   "execution_count": 33,
   "id": "5c9341b5-138c-4548-91e8-52e7fbd2ca85",
   "metadata": {},
   "outputs": [],
   "source": [
    "arr4=arr2.astype(np.int8)"
   ]
  },
  {
   "cell_type": "code",
   "execution_count": 34,
   "id": "cad056f5-c9b1-4de1-a799-439952db2a93",
   "metadata": {},
   "outputs": [
    {
     "data": {
      "text/plain": [
       "array([5, 8, 1, 9, 9], dtype=int8)"
      ]
     },
     "execution_count": 34,
     "metadata": {},
     "output_type": "execute_result"
    }
   ],
   "source": [
    "arr4"
   ]
  },
  {
   "cell_type": "code",
   "execution_count": 35,
   "id": "af14d08d-ef2a-4179-a1bb-cddad5de47b4",
   "metadata": {},
   "outputs": [
    {
     "data": {
      "text/plain": [
       "dtype('int8')"
      ]
     },
     "execution_count": 35,
     "metadata": {},
     "output_type": "execute_result"
    }
   ],
   "source": [
    "arr4.dtype"
   ]
  },
  {
   "cell_type": "code",
   "execution_count": null,
   "id": "601e6d7c-c811-4977-84f0-9cb7bd35e709",
   "metadata": {},
   "outputs": [],
   "source": []
  }
 ],
 "metadata": {
  "kernelspec": {
   "display_name": "Python 3 (ipykernel)",
   "language": "python",
   "name": "python3"
  },
  "language_info": {
   "codemirror_mode": {
    "name": "ipython",
    "version": 3
   },
   "file_extension": ".py",
   "mimetype": "text/x-python",
   "name": "python",
   "nbconvert_exporter": "python",
   "pygments_lexer": "ipython3",
   "version": "3.11.4"
  }
 },
 "nbformat": 4,
 "nbformat_minor": 5
}
